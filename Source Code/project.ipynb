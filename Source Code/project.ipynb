{
 "cells": [
  {
   "cell_type": "code",
   "execution_count": 1,
   "id": "a1970c39-ed4d-4d01-9b81-67a978d81a25",
   "metadata": {},
   "outputs": [
    {
     "name": "stdout",
     "output_type": "stream",
     "text": [
      "Requirement already satisfied: numpy in /home/faiz/anaconda3/lib/python3.11/site-packages (1.26.4)\n",
      "Note: you may need to restart the kernel to use updated packages.\n",
      "Requirement already satisfied: pandas in /home/faiz/anaconda3/lib/python3.11/site-packages (2.1.4)\n",
      "Requirement already satisfied: numpy<2,>=1.23.2 in /home/faiz/anaconda3/lib/python3.11/site-packages (from pandas) (1.26.4)\n",
      "Requirement already satisfied: python-dateutil>=2.8.2 in /home/faiz/anaconda3/lib/python3.11/site-packages (from pandas) (2.8.2)\n",
      "Requirement already satisfied: pytz>=2020.1 in /home/faiz/anaconda3/lib/python3.11/site-packages (from pandas) (2023.3.post1)\n",
      "Requirement already satisfied: tzdata>=2022.1 in /home/faiz/anaconda3/lib/python3.11/site-packages (from pandas) (2023.3)\n",
      "Requirement already satisfied: six>=1.5 in /home/faiz/anaconda3/lib/python3.11/site-packages (from python-dateutil>=2.8.2->pandas) (1.16.0)\n",
      "Note: you may need to restart the kernel to use updated packages.\n",
      "Requirement already satisfied: matplotlib in /home/faiz/anaconda3/lib/python3.11/site-packages (3.8.0)\n",
      "Requirement already satisfied: contourpy>=1.0.1 in /home/faiz/anaconda3/lib/python3.11/site-packages (from matplotlib) (1.2.0)\n",
      "Requirement already satisfied: cycler>=0.10 in /home/faiz/anaconda3/lib/python3.11/site-packages (from matplotlib) (0.11.0)\n",
      "Requirement already satisfied: fonttools>=4.22.0 in /home/faiz/anaconda3/lib/python3.11/site-packages (from matplotlib) (4.25.0)\n",
      "Requirement already satisfied: kiwisolver>=1.0.1 in /home/faiz/anaconda3/lib/python3.11/site-packages (from matplotlib) (1.4.4)\n",
      "Requirement already satisfied: numpy<2,>=1.21 in /home/faiz/anaconda3/lib/python3.11/site-packages (from matplotlib) (1.26.4)\n",
      "Requirement already satisfied: packaging>=20.0 in /home/faiz/anaconda3/lib/python3.11/site-packages (from matplotlib) (23.1)\n",
      "Requirement already satisfied: pillow>=6.2.0 in /home/faiz/anaconda3/lib/python3.11/site-packages (from matplotlib) (10.2.0)\n",
      "Requirement already satisfied: pyparsing>=2.3.1 in /home/faiz/anaconda3/lib/python3.11/site-packages (from matplotlib) (3.0.9)\n",
      "Requirement already satisfied: python-dateutil>=2.7 in /home/faiz/anaconda3/lib/python3.11/site-packages (from matplotlib) (2.8.2)\n",
      "Requirement already satisfied: six>=1.5 in /home/faiz/anaconda3/lib/python3.11/site-packages (from python-dateutil>=2.7->matplotlib) (1.16.0)\n",
      "Note: you may need to restart the kernel to use updated packages.\n",
      "Requirement already satisfied: nltk in /home/faiz/anaconda3/lib/python3.11/site-packages (3.8.1)\n",
      "Requirement already satisfied: click in /home/faiz/anaconda3/lib/python3.11/site-packages (from nltk) (8.1.7)\n",
      "Requirement already satisfied: joblib in /home/faiz/anaconda3/lib/python3.11/site-packages (from nltk) (1.2.0)\n",
      "Requirement already satisfied: regex>=2021.8.3 in /home/faiz/anaconda3/lib/python3.11/site-packages (from nltk) (2023.10.3)\n",
      "Requirement already satisfied: tqdm in /home/faiz/anaconda3/lib/python3.11/site-packages (from nltk) (4.65.0)\n",
      "Note: you may need to restart the kernel to use updated packages.\n",
      "Requirement already satisfied: scikit-learn in /home/faiz/anaconda3/lib/python3.11/site-packages (1.2.2)\n",
      "Requirement already satisfied: numpy>=1.17.3 in /home/faiz/anaconda3/lib/python3.11/site-packages (from scikit-learn) (1.26.4)\n",
      "Requirement already satisfied: scipy>=1.3.2 in /home/faiz/anaconda3/lib/python3.11/site-packages (from scikit-learn) (1.11.4)\n",
      "Requirement already satisfied: joblib>=1.1.1 in /home/faiz/anaconda3/lib/python3.11/site-packages (from scikit-learn) (1.2.0)\n",
      "Requirement already satisfied: threadpoolctl>=2.0.0 in /home/faiz/anaconda3/lib/python3.11/site-packages (from scikit-learn) (2.2.0)\n",
      "Note: you may need to restart the kernel to use updated packages.\n",
      "Requirement already satisfied: torch in /home/faiz/anaconda3/lib/python3.11/site-packages (2.2.2)\n",
      "Requirement already satisfied: filelock in /home/faiz/anaconda3/lib/python3.11/site-packages (from torch) (3.13.1)\n",
      "Requirement already satisfied: typing-extensions>=4.8.0 in /home/faiz/anaconda3/lib/python3.11/site-packages (from torch) (4.9.0)\n",
      "Requirement already satisfied: sympy in /home/faiz/anaconda3/lib/python3.11/site-packages (from torch) (1.12)\n",
      "Requirement already satisfied: networkx in /home/faiz/anaconda3/lib/python3.11/site-packages (from torch) (3.1)\n",
      "Requirement already satisfied: jinja2 in /home/faiz/anaconda3/lib/python3.11/site-packages (from torch) (3.1.3)\n",
      "Requirement already satisfied: fsspec in /home/faiz/anaconda3/lib/python3.11/site-packages (from torch) (2023.10.0)\n",
      "Requirement already satisfied: nvidia-cuda-nvrtc-cu12==12.1.105 in /home/faiz/anaconda3/lib/python3.11/site-packages (from torch) (12.1.105)\n",
      "Requirement already satisfied: nvidia-cuda-runtime-cu12==12.1.105 in /home/faiz/anaconda3/lib/python3.11/site-packages (from torch) (12.1.105)\n",
      "Requirement already satisfied: nvidia-cuda-cupti-cu12==12.1.105 in /home/faiz/anaconda3/lib/python3.11/site-packages (from torch) (12.1.105)\n",
      "Requirement already satisfied: nvidia-cudnn-cu12==8.9.2.26 in /home/faiz/anaconda3/lib/python3.11/site-packages (from torch) (8.9.2.26)\n",
      "Requirement already satisfied: nvidia-cublas-cu12==12.1.3.1 in /home/faiz/anaconda3/lib/python3.11/site-packages (from torch) (12.1.3.1)\n",
      "Requirement already satisfied: nvidia-cufft-cu12==11.0.2.54 in /home/faiz/anaconda3/lib/python3.11/site-packages (from torch) (11.0.2.54)\n",
      "Requirement already satisfied: nvidia-curand-cu12==10.3.2.106 in /home/faiz/anaconda3/lib/python3.11/site-packages (from torch) (10.3.2.106)\n",
      "Requirement already satisfied: nvidia-cusolver-cu12==11.4.5.107 in /home/faiz/anaconda3/lib/python3.11/site-packages (from torch) (11.4.5.107)\n",
      "Requirement already satisfied: nvidia-cusparse-cu12==12.1.0.106 in /home/faiz/anaconda3/lib/python3.11/site-packages (from torch) (12.1.0.106)\n",
      "Requirement already satisfied: nvidia-nccl-cu12==2.19.3 in /home/faiz/anaconda3/lib/python3.11/site-packages (from torch) (2.19.3)\n",
      "Requirement already satisfied: nvidia-nvtx-cu12==12.1.105 in /home/faiz/anaconda3/lib/python3.11/site-packages (from torch) (12.1.105)\n",
      "Requirement already satisfied: triton==2.2.0 in /home/faiz/anaconda3/lib/python3.11/site-packages (from torch) (2.2.0)\n",
      "Requirement already satisfied: nvidia-nvjitlink-cu12 in /home/faiz/anaconda3/lib/python3.11/site-packages (from nvidia-cusolver-cu12==11.4.5.107->torch) (12.4.127)\n",
      "Requirement already satisfied: MarkupSafe>=2.0 in /home/faiz/anaconda3/lib/python3.11/site-packages (from jinja2->torch) (2.1.3)\n",
      "Requirement already satisfied: mpmath>=0.19 in /home/faiz/anaconda3/lib/python3.11/site-packages (from sympy->torch) (1.3.0)\n",
      "Note: you may need to restart the kernel to use updated packages.\n",
      "Requirement already satisfied: seaborn in /home/faiz/anaconda3/lib/python3.11/site-packages (0.12.2)\n",
      "Requirement already satisfied: numpy!=1.24.0,>=1.17 in /home/faiz/anaconda3/lib/python3.11/site-packages (from seaborn) (1.26.4)\n",
      "Requirement already satisfied: pandas>=0.25 in /home/faiz/anaconda3/lib/python3.11/site-packages (from seaborn) (2.1.4)\n",
      "Requirement already satisfied: matplotlib!=3.6.1,>=3.1 in /home/faiz/anaconda3/lib/python3.11/site-packages (from seaborn) (3.8.0)\n",
      "Requirement already satisfied: contourpy>=1.0.1 in /home/faiz/anaconda3/lib/python3.11/site-packages (from matplotlib!=3.6.1,>=3.1->seaborn) (1.2.0)\n",
      "Requirement already satisfied: cycler>=0.10 in /home/faiz/anaconda3/lib/python3.11/site-packages (from matplotlib!=3.6.1,>=3.1->seaborn) (0.11.0)\n",
      "Requirement already satisfied: fonttools>=4.22.0 in /home/faiz/anaconda3/lib/python3.11/site-packages (from matplotlib!=3.6.1,>=3.1->seaborn) (4.25.0)\n",
      "Requirement already satisfied: kiwisolver>=1.0.1 in /home/faiz/anaconda3/lib/python3.11/site-packages (from matplotlib!=3.6.1,>=3.1->seaborn) (1.4.4)\n",
      "Requirement already satisfied: packaging>=20.0 in /home/faiz/anaconda3/lib/python3.11/site-packages (from matplotlib!=3.6.1,>=3.1->seaborn) (23.1)\n",
      "Requirement already satisfied: pillow>=6.2.0 in /home/faiz/anaconda3/lib/python3.11/site-packages (from matplotlib!=3.6.1,>=3.1->seaborn) (10.2.0)\n",
      "Requirement already satisfied: pyparsing>=2.3.1 in /home/faiz/anaconda3/lib/python3.11/site-packages (from matplotlib!=3.6.1,>=3.1->seaborn) (3.0.9)\n",
      "Requirement already satisfied: python-dateutil>=2.7 in /home/faiz/anaconda3/lib/python3.11/site-packages (from matplotlib!=3.6.1,>=3.1->seaborn) (2.8.2)\n",
      "Requirement already satisfied: pytz>=2020.1 in /home/faiz/anaconda3/lib/python3.11/site-packages (from pandas>=0.25->seaborn) (2023.3.post1)\n",
      "Requirement already satisfied: tzdata>=2022.1 in /home/faiz/anaconda3/lib/python3.11/site-packages (from pandas>=0.25->seaborn) (2023.3)\n",
      "Requirement already satisfied: six>=1.5 in /home/faiz/anaconda3/lib/python3.11/site-packages (from python-dateutil>=2.7->matplotlib!=3.6.1,>=3.1->seaborn) (1.16.0)\n",
      "Note: you may need to restart the kernel to use updated packages.\n",
      "Requirement already satisfied: missingno in /home/faiz/anaconda3/lib/python3.11/site-packages (0.5.2)\n",
      "Requirement already satisfied: numpy in /home/faiz/anaconda3/lib/python3.11/site-packages (from missingno) (1.26.4)\n",
      "Requirement already satisfied: matplotlib in /home/faiz/anaconda3/lib/python3.11/site-packages (from missingno) (3.8.0)\n",
      "Requirement already satisfied: scipy in /home/faiz/anaconda3/lib/python3.11/site-packages (from missingno) (1.11.4)\n",
      "Requirement already satisfied: seaborn in /home/faiz/anaconda3/lib/python3.11/site-packages (from missingno) (0.12.2)\n",
      "Requirement already satisfied: contourpy>=1.0.1 in /home/faiz/anaconda3/lib/python3.11/site-packages (from matplotlib->missingno) (1.2.0)\n",
      "Requirement already satisfied: cycler>=0.10 in /home/faiz/anaconda3/lib/python3.11/site-packages (from matplotlib->missingno) (0.11.0)\n",
      "Requirement already satisfied: fonttools>=4.22.0 in /home/faiz/anaconda3/lib/python3.11/site-packages (from matplotlib->missingno) (4.25.0)\n",
      "Requirement already satisfied: kiwisolver>=1.0.1 in /home/faiz/anaconda3/lib/python3.11/site-packages (from matplotlib->missingno) (1.4.4)\n",
      "Requirement already satisfied: packaging>=20.0 in /home/faiz/anaconda3/lib/python3.11/site-packages (from matplotlib->missingno) (23.1)\n",
      "Requirement already satisfied: pillow>=6.2.0 in /home/faiz/anaconda3/lib/python3.11/site-packages (from matplotlib->missingno) (10.2.0)\n",
      "Requirement already satisfied: pyparsing>=2.3.1 in /home/faiz/anaconda3/lib/python3.11/site-packages (from matplotlib->missingno) (3.0.9)\n",
      "Requirement already satisfied: python-dateutil>=2.7 in /home/faiz/anaconda3/lib/python3.11/site-packages (from matplotlib->missingno) (2.8.2)\n",
      "Requirement already satisfied: pandas>=0.25 in /home/faiz/anaconda3/lib/python3.11/site-packages (from seaborn->missingno) (2.1.4)\n",
      "Requirement already satisfied: pytz>=2020.1 in /home/faiz/anaconda3/lib/python3.11/site-packages (from pandas>=0.25->seaborn->missingno) (2023.3.post1)\n",
      "Requirement already satisfied: tzdata>=2022.1 in /home/faiz/anaconda3/lib/python3.11/site-packages (from pandas>=0.25->seaborn->missingno) (2023.3)\n",
      "Requirement already satisfied: six>=1.5 in /home/faiz/anaconda3/lib/python3.11/site-packages (from python-dateutil>=2.7->matplotlib->missingno) (1.16.0)\n",
      "Note: you may need to restart the kernel to use updated packages.\n",
      "Requirement already satisfied: demoji in /home/faiz/anaconda3/lib/python3.11/site-packages (1.1.0)\n",
      "Note: you may need to restart the kernel to use updated packages.\n",
      "Requirement already satisfied: spacy in /home/faiz/anaconda3/lib/python3.11/site-packages (3.7.4)\n",
      "Requirement already satisfied: spacy-legacy<3.1.0,>=3.0.11 in /home/faiz/anaconda3/lib/python3.11/site-packages (from spacy) (3.0.12)\n",
      "Requirement already satisfied: spacy-loggers<2.0.0,>=1.0.0 in /home/faiz/anaconda3/lib/python3.11/site-packages (from spacy) (1.0.5)\n",
      "Requirement already satisfied: murmurhash<1.1.0,>=0.28.0 in /home/faiz/anaconda3/lib/python3.11/site-packages (from spacy) (1.0.10)\n",
      "Requirement already satisfied: cymem<2.1.0,>=2.0.2 in /home/faiz/anaconda3/lib/python3.11/site-packages (from spacy) (2.0.8)\n",
      "Requirement already satisfied: preshed<3.1.0,>=3.0.2 in /home/faiz/anaconda3/lib/python3.11/site-packages (from spacy) (3.0.9)\n",
      "Requirement already satisfied: thinc<8.3.0,>=8.2.2 in /home/faiz/anaconda3/lib/python3.11/site-packages (from spacy) (8.2.3)\n",
      "Requirement already satisfied: wasabi<1.2.0,>=0.9.1 in /home/faiz/anaconda3/lib/python3.11/site-packages (from spacy) (1.1.2)\n",
      "Requirement already satisfied: srsly<3.0.0,>=2.4.3 in /home/faiz/anaconda3/lib/python3.11/site-packages (from spacy) (2.4.8)\n",
      "Requirement already satisfied: catalogue<2.1.0,>=2.0.6 in /home/faiz/anaconda3/lib/python3.11/site-packages (from spacy) (2.0.10)\n",
      "Requirement already satisfied: weasel<0.4.0,>=0.1.0 in /home/faiz/anaconda3/lib/python3.11/site-packages (from spacy) (0.3.4)\n",
      "Requirement already satisfied: typer<0.10.0,>=0.3.0 in /home/faiz/anaconda3/lib/python3.11/site-packages (from spacy) (0.9.4)\n",
      "Requirement already satisfied: smart-open<7.0.0,>=5.2.1 in /home/faiz/anaconda3/lib/python3.11/site-packages (from spacy) (5.2.1)\n",
      "Requirement already satisfied: tqdm<5.0.0,>=4.38.0 in /home/faiz/anaconda3/lib/python3.11/site-packages (from spacy) (4.65.0)\n",
      "Requirement already satisfied: requests<3.0.0,>=2.13.0 in /home/faiz/anaconda3/lib/python3.11/site-packages (from spacy) (2.31.0)\n",
      "Requirement already satisfied: pydantic!=1.8,!=1.8.1,<3.0.0,>=1.7.4 in /home/faiz/anaconda3/lib/python3.11/site-packages (from spacy) (1.10.12)\n",
      "Requirement already satisfied: jinja2 in /home/faiz/anaconda3/lib/python3.11/site-packages (from spacy) (3.1.3)\n",
      "Requirement already satisfied: setuptools in /home/faiz/anaconda3/lib/python3.11/site-packages (from spacy) (68.2.2)\n",
      "Requirement already satisfied: packaging>=20.0 in /home/faiz/anaconda3/lib/python3.11/site-packages (from spacy) (23.1)\n",
      "Requirement already satisfied: langcodes<4.0.0,>=3.2.0 in /home/faiz/anaconda3/lib/python3.11/site-packages (from spacy) (3.4.0)\n",
      "Requirement already satisfied: numpy>=1.19.0 in /home/faiz/anaconda3/lib/python3.11/site-packages (from spacy) (1.26.4)\n",
      "Requirement already satisfied: language-data>=1.2 in /home/faiz/anaconda3/lib/python3.11/site-packages (from langcodes<4.0.0,>=3.2.0->spacy) (1.2.0)\n",
      "Requirement already satisfied: typing-extensions>=4.2.0 in /home/faiz/anaconda3/lib/python3.11/site-packages (from pydantic!=1.8,!=1.8.1,<3.0.0,>=1.7.4->spacy) (4.9.0)\n",
      "Requirement already satisfied: charset-normalizer<4,>=2 in /home/faiz/anaconda3/lib/python3.11/site-packages (from requests<3.0.0,>=2.13.0->spacy) (2.0.4)\n",
      "Requirement already satisfied: idna<4,>=2.5 in /home/faiz/anaconda3/lib/python3.11/site-packages (from requests<3.0.0,>=2.13.0->spacy) (3.4)\n",
      "Requirement already satisfied: urllib3<3,>=1.21.1 in /home/faiz/anaconda3/lib/python3.11/site-packages (from requests<3.0.0,>=2.13.0->spacy) (2.0.7)\n",
      "Requirement already satisfied: certifi>=2017.4.17 in /home/faiz/anaconda3/lib/python3.11/site-packages (from requests<3.0.0,>=2.13.0->spacy) (2024.2.2)\n",
      "Requirement already satisfied: blis<0.8.0,>=0.7.8 in /home/faiz/anaconda3/lib/python3.11/site-packages (from thinc<8.3.0,>=8.2.2->spacy) (0.7.11)\n",
      "Requirement already satisfied: confection<1.0.0,>=0.0.1 in /home/faiz/anaconda3/lib/python3.11/site-packages (from thinc<8.3.0,>=8.2.2->spacy) (0.1.4)\n",
      "Requirement already satisfied: click<9.0.0,>=7.1.1 in /home/faiz/anaconda3/lib/python3.11/site-packages (from typer<0.10.0,>=0.3.0->spacy) (8.1.7)\n",
      "Requirement already satisfied: cloudpathlib<0.17.0,>=0.7.0 in /home/faiz/anaconda3/lib/python3.11/site-packages (from weasel<0.4.0,>=0.1.0->spacy) (0.16.0)\n",
      "Requirement already satisfied: MarkupSafe>=2.0 in /home/faiz/anaconda3/lib/python3.11/site-packages (from jinja2->spacy) (2.1.3)\n",
      "Requirement already satisfied: marisa-trie>=0.7.7 in /home/faiz/anaconda3/lib/python3.11/site-packages (from language-data>=1.2->langcodes<4.0.0,>=3.2.0->spacy) (1.1.0)\n",
      "Note: you may need to restart the kernel to use updated packages.\n",
      "Requirement already satisfied: langdetect in /home/faiz/anaconda3/lib/python3.11/site-packages (1.0.9)\n",
      "Requirement already satisfied: six in /home/faiz/anaconda3/lib/python3.11/site-packages (from langdetect) (1.16.0)\n",
      "Note: you may need to restart the kernel to use updated packages.\n",
      "Requirement already satisfied: nlpaug in /home/faiz/anaconda3/lib/python3.11/site-packages (1.1.11)\n",
      "Requirement already satisfied: numpy>=1.16.2 in /home/faiz/anaconda3/lib/python3.11/site-packages (from nlpaug) (1.26.4)\n",
      "Requirement already satisfied: pandas>=1.2.0 in /home/faiz/anaconda3/lib/python3.11/site-packages (from nlpaug) (2.1.4)\n",
      "Requirement already satisfied: requests>=2.22.0 in /home/faiz/anaconda3/lib/python3.11/site-packages (from nlpaug) (2.31.0)\n",
      "Requirement already satisfied: gdown>=4.0.0 in /home/faiz/anaconda3/lib/python3.11/site-packages (from nlpaug) (5.1.0)\n",
      "Requirement already satisfied: beautifulsoup4 in /home/faiz/anaconda3/lib/python3.11/site-packages (from gdown>=4.0.0->nlpaug) (4.12.2)\n",
      "Requirement already satisfied: filelock in /home/faiz/anaconda3/lib/python3.11/site-packages (from gdown>=4.0.0->nlpaug) (3.13.1)\n",
      "Requirement already satisfied: tqdm in /home/faiz/anaconda3/lib/python3.11/site-packages (from gdown>=4.0.0->nlpaug) (4.65.0)\n",
      "Requirement already satisfied: python-dateutil>=2.8.2 in /home/faiz/anaconda3/lib/python3.11/site-packages (from pandas>=1.2.0->nlpaug) (2.8.2)\n",
      "Requirement already satisfied: pytz>=2020.1 in /home/faiz/anaconda3/lib/python3.11/site-packages (from pandas>=1.2.0->nlpaug) (2023.3.post1)\n",
      "Requirement already satisfied: tzdata>=2022.1 in /home/faiz/anaconda3/lib/python3.11/site-packages (from pandas>=1.2.0->nlpaug) (2023.3)\n",
      "Requirement already satisfied: charset-normalizer<4,>=2 in /home/faiz/anaconda3/lib/python3.11/site-packages (from requests>=2.22.0->nlpaug) (2.0.4)\n",
      "Requirement already satisfied: idna<4,>=2.5 in /home/faiz/anaconda3/lib/python3.11/site-packages (from requests>=2.22.0->nlpaug) (3.4)\n",
      "Requirement already satisfied: urllib3<3,>=1.21.1 in /home/faiz/anaconda3/lib/python3.11/site-packages (from requests>=2.22.0->nlpaug) (2.0.7)\n",
      "Requirement already satisfied: certifi>=2017.4.17 in /home/faiz/anaconda3/lib/python3.11/site-packages (from requests>=2.22.0->nlpaug) (2024.2.2)\n",
      "Requirement already satisfied: six>=1.5 in /home/faiz/anaconda3/lib/python3.11/site-packages (from python-dateutil>=2.8.2->pandas>=1.2.0->nlpaug) (1.16.0)\n",
      "Requirement already satisfied: soupsieve>1.2 in /home/faiz/anaconda3/lib/python3.11/site-packages (from beautifulsoup4->gdown>=4.0.0->nlpaug) (2.5)\n",
      "Requirement already satisfied: PySocks!=1.5.7,>=1.5.6 in /home/faiz/anaconda3/lib/python3.11/site-packages (from requests[socks]->gdown>=4.0.0->nlpaug) (1.7.1)\n",
      "Note: you may need to restart the kernel to use updated packages.\n",
      "Requirement already satisfied: gensim in /home/faiz/anaconda3/lib/python3.11/site-packages (4.3.0)\n",
      "Requirement already satisfied: numpy>=1.18.5 in /home/faiz/anaconda3/lib/python3.11/site-packages (from gensim) (1.26.4)\n",
      "Requirement already satisfied: scipy>=1.7.0 in /home/faiz/anaconda3/lib/python3.11/site-packages (from gensim) (1.11.4)\n",
      "Requirement already satisfied: smart-open>=1.8.1 in /home/faiz/anaconda3/lib/python3.11/site-packages (from gensim) (5.2.1)\n",
      "Requirement already satisfied: FuzzyTM>=0.4.0 in /home/faiz/anaconda3/lib/python3.11/site-packages (from gensim) (2.0.7)\n",
      "Requirement already satisfied: pandas in /home/faiz/anaconda3/lib/python3.11/site-packages (from FuzzyTM>=0.4.0->gensim) (2.1.4)\n",
      "Requirement already satisfied: pyfume in /home/faiz/anaconda3/lib/python3.11/site-packages (from FuzzyTM>=0.4.0->gensim) (0.3.1)\n",
      "Requirement already satisfied: python-dateutil>=2.8.2 in /home/faiz/anaconda3/lib/python3.11/site-packages (from pandas->FuzzyTM>=0.4.0->gensim) (2.8.2)\n",
      "Requirement already satisfied: pytz>=2020.1 in /home/faiz/anaconda3/lib/python3.11/site-packages (from pandas->FuzzyTM>=0.4.0->gensim) (2023.3.post1)\n",
      "Requirement already satisfied: tzdata>=2022.1 in /home/faiz/anaconda3/lib/python3.11/site-packages (from pandas->FuzzyTM>=0.4.0->gensim) (2023.3)\n",
      "Requirement already satisfied: simpful in /home/faiz/anaconda3/lib/python3.11/site-packages (from pyfume->FuzzyTM>=0.4.0->gensim) (2.12.0)\n",
      "Requirement already satisfied: fst-pso in /home/faiz/anaconda3/lib/python3.11/site-packages (from pyfume->FuzzyTM>=0.4.0->gensim) (1.8.1)\n",
      "Requirement already satisfied: typing-extensions in /home/faiz/anaconda3/lib/python3.11/site-packages (from pyfume->FuzzyTM>=0.4.0->gensim) (4.9.0)\n",
      "Requirement already satisfied: six>=1.5 in /home/faiz/anaconda3/lib/python3.11/site-packages (from python-dateutil>=2.8.2->pandas->FuzzyTM>=0.4.0->gensim) (1.16.0)\n",
      "Requirement already satisfied: miniful in /home/faiz/anaconda3/lib/python3.11/site-packages (from fst-pso->pyfume->FuzzyTM>=0.4.0->gensim) (0.0.6)\n",
      "Note: you may need to restart the kernel to use updated packages.\n",
      "Requirement already satisfied: joblib in /home/faiz/anaconda3/lib/python3.11/site-packages (1.2.0)\n",
      "Note: you may need to restart the kernel to use updated packages.\n",
      "Requirement already satisfied: pyswarm in /home/faiz/anaconda3/lib/python3.11/site-packages (0.6)\n",
      "Requirement already satisfied: numpy in /home/faiz/anaconda3/lib/python3.11/site-packages (from pyswarm) (1.26.4)\n",
      "Note: you may need to restart the kernel to use updated packages.\n"
     ]
    }
   ],
   "source": [
    "%pip install numpy\n",
    "%pip install pandas\n",
    "%pip install matplotlib\n",
    "%pip install nltk\n",
    "%pip install scikit-learn\n",
    "%pip install torch\n",
    "%pip install seaborn\n",
    "%pip install missingno\n",
    "%pip install demoji\n",
    "%pip install spacy\n",
    "%pip install langdetect\n",
    "%pip install nlpaug\n",
    "%pip install gensim\n",
    "%pip install joblib\n",
    "%pip install pyswarm"
   ]
  },
  {
   "cell_type": "code",
   "execution_count": 2,
   "id": "bc7c2d57-4ac3-49f3-9e4a-2b4f846c9506",
   "metadata": {},
   "outputs": [],
   "source": [
    "import pandas as pd\n",
    "import torch\n",
    "import numpy as np\n",
    "import sqlite3\n",
    "import matplotlib.pyplot as plt\n",
    "import seaborn as sns\n",
    "import re\n",
    "import nltk\n",
    "from nltk.corpus import stopwords\n",
    "from nltk.stem import WordNetLemmatizer\n",
    "from nltk.stem.porter import PorterStemmer\n",
    "from sklearn.feature_extraction.text import CountVectorizer\n",
    "\n",
    "pd.set_option(\"display.max_columns\", None)\n",
    "pd.set_option(\"display.max_rows\", None)\n",
    "import warnings"
   ]
  },
  {
   "cell_type": "code",
   "execution_count": 3,
   "id": "b876946f-dde5-49cf-b752-d8dbeedef732",
   "metadata": {},
   "outputs": [],
   "source": [
    "con = sqlite3.connect(\"dataset/flipkart_products.db\")\n",
    "items = pd.read_sql_query(\"SELECT * from items\", con)\n",
    "con.close()"
   ]
  },
  {
   "cell_type": "code",
   "execution_count": 4,
   "id": "3dc4380d-6260-47a5-bf68-5a4b5d4d6acd",
   "metadata": {},
   "outputs": [
    {
     "data": {
      "text/html": [
       "<div>\n",
       "<style scoped>\n",
       "    .dataframe tbody tr th:only-of-type {\n",
       "        vertical-align: middle;\n",
       "    }\n",
       "\n",
       "    .dataframe tbody tr th {\n",
       "        vertical-align: top;\n",
       "    }\n",
       "\n",
       "    .dataframe thead th {\n",
       "        text-align: right;\n",
       "    }\n",
       "</style>\n",
       "<table border=\"1\" class=\"dataframe\">\n",
       "  <thead>\n",
       "    <tr style=\"text-align: right;\">\n",
       "      <th></th>\n",
       "      <th>product_id</th>\n",
       "      <th>product_name</th>\n",
       "      <th>price</th>\n",
       "      <th>category</th>\n",
       "      <th>sub_category</th>\n",
       "      <th>specifications</th>\n",
       "      <th>ratings</th>\n",
       "      <th>discount</th>\n",
       "      <th>moreinfo</th>\n",
       "    </tr>\n",
       "  </thead>\n",
       "  <tbody>\n",
       "    <tr>\n",
       "      <th>0</th>\n",
       "      <td>ECMB000001</td>\n",
       "      <td>Redmi 9A (SeaBlue, 32 GB)</td>\n",
       "      <td>₹7,413</td>\n",
       "      <td>Electronics</td>\n",
       "      <td>Mobile</td>\n",
       "      <td>2 GB RAM | 32 GB ROM16.59 cm (6.53 inch) Full ...</td>\n",
       "      <td>4.3</td>\n",
       "      <td>3.0</td>\n",
       "      <td>/redmi-9a-seablue-32-gb/p/itmeabd39a0cd669?pid...</td>\n",
       "    </tr>\n",
       "    <tr>\n",
       "      <th>1</th>\n",
       "      <td>ECMB000002</td>\n",
       "      <td>Redmi 9A (Midnight Black, 32 GB)</td>\n",
       "      <td>₹7,421</td>\n",
       "      <td>Electronics</td>\n",
       "      <td>Mobile</td>\n",
       "      <td>2 GB RAM | 32 GB ROM16.59 cm (6.53 inch) Full ...</td>\n",
       "      <td>4.3</td>\n",
       "      <td>3.0</td>\n",
       "      <td>/redmi-9a-midnight-black-32-gb/p/itmeabd39a0cd...</td>\n",
       "    </tr>\n",
       "    <tr>\n",
       "      <th>2</th>\n",
       "      <td>ECMB000003</td>\n",
       "      <td>Redmi 9A (Nature Green, 32 GB)</td>\n",
       "      <td>₹7,384</td>\n",
       "      <td>Electronics</td>\n",
       "      <td>Mobile</td>\n",
       "      <td>2 GB RAM | 32 GB ROM16.59 cm (6.53 inch) Full ...</td>\n",
       "      <td>4.3</td>\n",
       "      <td>4.0</td>\n",
       "      <td>/redmi-9a-nature-green-32-gb/p/itmeabd39a0cd66...</td>\n",
       "    </tr>\n",
       "    <tr>\n",
       "      <th>3</th>\n",
       "      <td>ECMB000004</td>\n",
       "      <td>Redmi 9 (Carbon Black, 64 GB)</td>\n",
       "      <td>₹10,745</td>\n",
       "      <td>Electronics</td>\n",
       "      <td>Mobile</td>\n",
       "      <td>4 GB RAM | 64 GB ROM16.59 cm (6.53 inch) HD+ D...</td>\n",
       "      <td>4.2</td>\n",
       "      <td>None</td>\n",
       "      <td>/redmi-9-carbon-black-64-gb/p/itm4fb151383983b...</td>\n",
       "    </tr>\n",
       "    <tr>\n",
       "      <th>4</th>\n",
       "      <td>ECMB000005</td>\n",
       "      <td>Redmi 9 (Sky Blue, 64 GB)</td>\n",
       "      <td>₹10,489</td>\n",
       "      <td>Electronics</td>\n",
       "      <td>Mobile</td>\n",
       "      <td>4 GB RAM | 64 GB ROM16.59 cm (6.53 inch) HD+ D...</td>\n",
       "      <td>4.2</td>\n",
       "      <td>None</td>\n",
       "      <td>/redmi-9-sky-blue-64-gb/p/itm4fb151383983b?pid...</td>\n",
       "    </tr>\n",
       "  </tbody>\n",
       "</table>\n",
       "</div>"
      ],
      "text/plain": [
       "   product_id                      product_name    price     category  \\\n",
       "0  ECMB000001         Redmi 9A (SeaBlue, 32 GB)   ₹7,413  Electronics   \n",
       "1  ECMB000002  Redmi 9A (Midnight Black, 32 GB)   ₹7,421  Electronics   \n",
       "2  ECMB000003    Redmi 9A (Nature Green, 32 GB)   ₹7,384  Electronics   \n",
       "3  ECMB000004     Redmi 9 (Carbon Black, 64 GB)  ₹10,745  Electronics   \n",
       "4  ECMB000005         Redmi 9 (Sky Blue, 64 GB)  ₹10,489  Electronics   \n",
       "\n",
       "  sub_category                                     specifications ratings  \\\n",
       "0       Mobile  2 GB RAM | 32 GB ROM16.59 cm (6.53 inch) Full ...     4.3   \n",
       "1       Mobile  2 GB RAM | 32 GB ROM16.59 cm (6.53 inch) Full ...     4.3   \n",
       "2       Mobile  2 GB RAM | 32 GB ROM16.59 cm (6.53 inch) Full ...     4.3   \n",
       "3       Mobile  4 GB RAM | 64 GB ROM16.59 cm (6.53 inch) HD+ D...     4.2   \n",
       "4       Mobile  4 GB RAM | 64 GB ROM16.59 cm (6.53 inch) HD+ D...     4.2   \n",
       "\n",
       "  discount                                           moreinfo  \n",
       "0      3.0  /redmi-9a-seablue-32-gb/p/itmeabd39a0cd669?pid...  \n",
       "1      3.0  /redmi-9a-midnight-black-32-gb/p/itmeabd39a0cd...  \n",
       "2      4.0  /redmi-9a-nature-green-32-gb/p/itmeabd39a0cd66...  \n",
       "3     None  /redmi-9-carbon-black-64-gb/p/itm4fb151383983b...  \n",
       "4     None  /redmi-9-sky-blue-64-gb/p/itm4fb151383983b?pid...  "
      ]
     },
     "execution_count": 4,
     "metadata": {},
     "output_type": "execute_result"
    }
   ],
   "source": [
    "items.head()"
   ]
  },
  {
   "cell_type": "code",
   "execution_count": 5,
   "id": "1cf935c1-110b-4b50-a43b-3c2b60136b3d",
   "metadata": {},
   "outputs": [
    {
     "name": "stdout",
     "output_type": "stream",
     "text": [
      "<class 'pandas.core.frame.DataFrame'>\n",
      "RangeIndex: 82 entries, 0 to 81\n",
      "Data columns (total 9 columns):\n",
      " #   Column          Non-Null Count  Dtype \n",
      "---  ------          --------------  ----- \n",
      " 0   product_id      82 non-null     object\n",
      " 1   product_name    82 non-null     object\n",
      " 2   price           82 non-null     object\n",
      " 3   category        82 non-null     object\n",
      " 4   sub_category    82 non-null     object\n",
      " 5   specifications  82 non-null     object\n",
      " 6   ratings         82 non-null     object\n",
      " 7   discount        34 non-null     object\n",
      " 8   moreinfo        82 non-null     object\n",
      "dtypes: object(9)\n",
      "memory usage: 5.9+ KB\n"
     ]
    }
   ],
   "source": [
    "items.info()"
   ]
  },
  {
   "cell_type": "code",
   "execution_count": 6,
   "id": "94c30267-29f7-44d6-8b3a-07a11c1d7393",
   "metadata": {},
   "outputs": [],
   "source": [
    "con = sqlite3.connect(\"dataset/flipkart_products.db\")\n",
    "\n",
    "df = pd.read_sql_query(\"SELECT * from ECMB000001\", con)\n",
    "\n",
    "for i in range(2, len(items) + 1):\n",
    "\n",
    "    df_temp = pd.read_sql_query(\"SELECT * from ECMB{:06d}\".format(i), con)\n",
    "    df = pd.concat([df, df_temp])\n",
    "con.close()"
   ]
  },
  {
   "cell_type": "code",
   "execution_count": 7,
   "id": "54ac5a96-98d9-4614-aee3-77a43e6f2954",
   "metadata": {},
   "outputs": [
    {
     "name": "stdout",
     "output_type": "stream",
     "text": [
      "<class 'pandas.core.frame.DataFrame'>\n",
      "Index: 53493 entries, 0 to 289\n",
      "Data columns (total 8 columns):\n",
      " #   Column      Non-Null Count  Dtype \n",
      "---  ------      --------------  ----- \n",
      " 0   product_id  53493 non-null  object\n",
      " 1   review_id   53493 non-null  object\n",
      " 2   title       53493 non-null  object\n",
      " 3   review      53493 non-null  object\n",
      " 4   likes       53493 non-null  object\n",
      " 5   dislikes    53493 non-null  object\n",
      " 6   ratings     48488 non-null  object\n",
      " 7   reviewer    53493 non-null  object\n",
      "dtypes: object(8)\n",
      "memory usage: 3.7+ MB\n"
     ]
    }
   ],
   "source": [
    "df.info()"
   ]
  },
  {
   "cell_type": "code",
   "execution_count": 8,
   "id": "41253a23-96dc-45a3-b39e-e1e53d86bf49",
   "metadata": {},
   "outputs": [
    {
     "data": {
      "text/html": [
       "<div>\n",
       "<style scoped>\n",
       "    .dataframe tbody tr th:only-of-type {\n",
       "        vertical-align: middle;\n",
       "    }\n",
       "\n",
       "    .dataframe tbody tr th {\n",
       "        vertical-align: top;\n",
       "    }\n",
       "\n",
       "    .dataframe thead th {\n",
       "        text-align: right;\n",
       "    }\n",
       "</style>\n",
       "<table border=\"1\" class=\"dataframe\">\n",
       "  <thead>\n",
       "    <tr style=\"text-align: right;\">\n",
       "      <th></th>\n",
       "      <th>product_id</th>\n",
       "      <th>review_id</th>\n",
       "      <th>title</th>\n",
       "      <th>review</th>\n",
       "      <th>likes</th>\n",
       "      <th>dislikes</th>\n",
       "      <th>ratings</th>\n",
       "      <th>reviewer</th>\n",
       "    </tr>\n",
       "  </thead>\n",
       "  <tbody>\n",
       "    <tr>\n",
       "      <th>0</th>\n",
       "      <td>ECMB000001</td>\n",
       "      <td>ECMB0000010000001</td>\n",
       "      <td>Excellent</td>\n",
       "      <td>Wow superb I love it❤️👍 battery backup so nice 👍👍</td>\n",
       "      <td>740</td>\n",
       "      <td>160</td>\n",
       "      <td>5</td>\n",
       "      <td>Abhishek Saini</td>\n",
       "    </tr>\n",
       "    <tr>\n",
       "      <th>1</th>\n",
       "      <td>ECMB000001</td>\n",
       "      <td>ECMB0000010000002</td>\n",
       "      <td>Worth the money</td>\n",
       "      <td>Mobile So Good In Range Redmi 9a Has Miui 12 L...</td>\n",
       "      <td>355</td>\n",
       "      <td>104</td>\n",
       "      <td>4</td>\n",
       "      <td>Dinesh Kumar Sahni</td>\n",
       "    </tr>\n",
       "    <tr>\n",
       "      <th>2</th>\n",
       "      <td>ECMB000001</td>\n",
       "      <td>ECMB0000010000003</td>\n",
       "      <td>Just wow!</td>\n",
       "      <td>Wonderful device and smart phone best camera b...</td>\n",
       "      <td>125</td>\n",
       "      <td>47</td>\n",
       "      <td>5</td>\n",
       "      <td>Flipkart Customer</td>\n",
       "    </tr>\n",
       "    <tr>\n",
       "      <th>3</th>\n",
       "      <td>ECMB000001</td>\n",
       "      <td>ECMB0000010000004</td>\n",
       "      <td>Simply awesome</td>\n",
       "      <td>Very good mobile. Value for money. Battery bac...</td>\n",
       "      <td>0</td>\n",
       "      <td>0</td>\n",
       "      <td>5</td>\n",
       "      <td>Amit Sen</td>\n",
       "    </tr>\n",
       "    <tr>\n",
       "      <th>4</th>\n",
       "      <td>ECMB000001</td>\n",
       "      <td>ECMB0000010000005</td>\n",
       "      <td>Highly recommended</td>\n",
       "      <td>Really great.... value for money...</td>\n",
       "      <td>90</td>\n",
       "      <td>15</td>\n",
       "      <td>5</td>\n",
       "      <td>Sudeshna pakira</td>\n",
       "    </tr>\n",
       "  </tbody>\n",
       "</table>\n",
       "</div>"
      ],
      "text/plain": [
       "   product_id          review_id               title  \\\n",
       "0  ECMB000001  ECMB0000010000001           Excellent   \n",
       "1  ECMB000001  ECMB0000010000002     Worth the money   \n",
       "2  ECMB000001  ECMB0000010000003           Just wow!   \n",
       "3  ECMB000001  ECMB0000010000004      Simply awesome   \n",
       "4  ECMB000001  ECMB0000010000005  Highly recommended   \n",
       "\n",
       "                                              review likes dislikes ratings  \\\n",
       "0  Wow superb I love it❤️👍 battery backup so nice 👍👍   740      160       5   \n",
       "1  Mobile So Good In Range Redmi 9a Has Miui 12 L...   355      104       4   \n",
       "2  Wonderful device and smart phone best camera b...   125       47       5   \n",
       "3  Very good mobile. Value for money. Battery bac...     0        0       5   \n",
       "4                Really great.... value for money...    90       15       5   \n",
       "\n",
       "             reviewer  \n",
       "0      Abhishek Saini  \n",
       "1  Dinesh Kumar Sahni  \n",
       "2   Flipkart Customer  \n",
       "3            Amit Sen  \n",
       "4     Sudeshna pakira  "
      ]
     },
     "execution_count": 8,
     "metadata": {},
     "output_type": "execute_result"
    }
   ],
   "source": [
    "df.head()"
   ]
  },
  {
   "cell_type": "code",
   "execution_count": 9,
   "id": "4fe128b5-25be-429b-84f8-95018667101f",
   "metadata": {},
   "outputs": [
    {
     "data": {
      "text/plain": [
       "<Figure size 2500x2000 with 0 Axes>"
      ]
     },
     "metadata": {},
     "output_type": "display_data"
    },
    {
     "data": {
      "image/png": "[encoded data removed]",
      "text/plain": [
       "<Figure size 2500x1000 with 2 Axes>"
      ]
     },
     "metadata": {},
     "output_type": "display_data"
    }
   ],
   "source": [
    "import missingno as msno\n",
    "\n",
    "plt.figure(figsize=(25, 20))\n",
    "msno.matrix(df, color=[0.2, 0.4, 1])\n",
    "plt.show()"
   ]
  },
  {
   "cell_type": "code",
   "execution_count": 10,
   "id": "47f58cbb-7c62-4a84-bd42-0b044560f039",
   "metadata": {},
   "outputs": [
    {
     "name": "stdout",
     "output_type": "stream",
     "text": [
      "<class 'pandas.core.frame.DataFrame'>\n",
      "Index: 48488 entries, 0 to 287\n",
      "Data columns (total 8 columns):\n",
      " #   Column      Non-Null Count  Dtype \n",
      "---  ------      --------------  ----- \n",
      " 0   product_id  48488 non-null  object\n",
      " 1   review_id   48488 non-null  object\n",
      " 2   title       48488 non-null  object\n",
      " 3   review      48488 non-null  object\n",
      " 4   likes       48488 non-null  object\n",
      " 5   dislikes    48488 non-null  object\n",
      " 6   ratings     48488 non-null  object\n",
      " 7   reviewer    48488 non-null  object\n",
      "dtypes: object(8)\n",
      "memory usage: 3.3+ MB\n"
     ]
    }
   ],
   "source": [
    "df.dropna(inplace=True, axis=0)\n",
    "df.info()"
   ]
  },
  {
   "cell_type": "code",
   "execution_count": 11,
   "id": "fe42e632-e9ce-4b8e-a218-aa54fc92a7a3",
   "metadata": {},
   "outputs": [
    {
     "data": {
      "text/plain": [
       "<Figure size 2500x2000 with 0 Axes>"
      ]
     },
     "metadata": {},
     "output_type": "display_data"
    },
    {
     "data": {
      "image/png": "[encoded data removed]",
      "text/plain": [
       "<Figure size 2500x1000 with 2 Axes>"
      ]
     },
     "metadata": {},
     "output_type": "display_data"
    }
   ],
   "source": [
    "plt.figure(figsize=(25, 20))\n",
    "msno.matrix(df, color=[0.2, 0.4, 1])\n",
    "plt.show()"
   ]
  },
  {
   "cell_type": "code",
   "execution_count": 12,
   "id": "4c407b35-edb9-4e5d-b347-2755d1a74dd1",
   "metadata": {},
   "outputs": [],
   "source": [
    "def remove_url(text):\n",
    "    text = re.sub(r\"http\\S+\", \"\", text)\n",
    "    return text"
   ]
  },
  {
   "cell_type": "code",
   "execution_count": 13,
   "id": "4dac10b5-ce1b-4f47-822c-b28119d3cbf4",
   "metadata": {},
   "outputs": [
    {
     "name": "stdout",
     "output_type": "stream",
     "text": [
      "Text before removing url:- \n",
      " ℍ𝕚 𝔼𝕧𝕖𝕣𝕪𝕠𝕟𝕖 𝕀 𝕒𝕞 𝔸𝕟𝕜𝕚𝕥 𝔾𝕦𝕡𝕥𝕒 𝕙𝕒𝕧𝕚𝕟𝕘 𝕥𝕙𝕖 𝕗𝕠𝕝𝕝𝕠𝕨𝕚𝕟𝕘 𝕂𝕒𝕘𝕘𝕝𝕖 𝕡𝕣𝕠𝕗𝕚𝕝𝕖 \n",
      " https://www.kaggle.com/nkitgupta 𝕒𝕟𝕕 𝕀 𝕒𝕞 😊 𝕥𝕠 𝕔𝕣𝕖𝕒𝕥𝕖 𝕥𝕙𝕚𝕤 𝕟𝕠𝕥𝕖𝕓𝕠𝕠𝕜\n",
      "Text after removing url:- \n",
      " ℍ𝕚 𝔼𝕧𝕖𝕣𝕪𝕠𝕟𝕖 𝕀 𝕒𝕞 𝔸𝕟𝕜𝕚𝕥 𝔾𝕦𝕡𝕥𝕒 𝕙𝕒𝕧𝕚𝕟𝕘 𝕥𝕙𝕖 𝕗𝕠𝕝𝕝𝕠𝕨𝕚𝕟𝕘 𝕂𝕒𝕘𝕘𝕝𝕖 𝕡𝕣𝕠𝕗𝕚𝕝𝕖 \n",
      "  𝕒𝕟𝕕 𝕀 𝕒𝕞 😊 𝕥𝕠 𝕔𝕣𝕖𝕒𝕥𝕖 𝕥𝕙𝕚𝕤 𝕟𝕠𝕥𝕖𝕓𝕠𝕠𝕜\n"
     ]
    }
   ],
   "source": [
    "sample = \"ℍ𝕚 𝔼𝕧𝕖𝕣𝕪𝕠𝕟𝕖 𝕀 𝕒𝕞 𝔸𝕟𝕜𝕚𝕥 𝔾𝕦𝕡𝕥𝕒 𝕙𝕒𝕧𝕚𝕟𝕘 𝕥𝕙𝕖 𝕗𝕠𝕝𝕝𝕠𝕨𝕚𝕟𝕘 𝕂𝕒𝕘𝕘𝕝𝕖 𝕡𝕣𝕠𝕗𝕚𝕝𝕖 \\n https://www.kaggle.com/nkitgupta 𝕒𝕟𝕕 𝕀 𝕒𝕞 😊 𝕥𝕠 𝕔𝕣𝕖𝕒𝕥𝕖 𝕥𝕙𝕚𝕤 𝕟𝕠𝕥𝕖𝕓𝕠𝕠𝕜\"\n",
    "print(f\"Text before removing url:- \\n {sample}\")\n",
    "\n",
    "sample = remove_url(sample)\n",
    "print(f\"Text after removing url:- \\n {sample}\")"
   ]
  },
  {
   "cell_type": "code",
   "execution_count": 14,
   "id": "1ba6145a-e278-45cf-9dfd-15885069782f",
   "metadata": {},
   "outputs": [
    {
     "name": "stdout",
     "output_type": "stream",
     "text": [
      "Text before Unicode Normalization:- \n",
      " ℍ𝕚 𝔼𝕧𝕖𝕣𝕪𝕠𝕟𝕖 𝕀 𝕒𝕞 𝔸𝕟𝕜𝕚𝕥 𝔾𝕦𝕡𝕥𝕒 𝕙𝕒𝕧𝕚𝕟𝕘 𝕥𝕙𝕖 𝕗𝕠𝕝𝕝𝕠𝕨𝕚𝕟𝕘 𝕂𝕒𝕘𝕘𝕝𝕖 𝕡𝕣𝕠𝕗𝕚𝕝𝕖 \n",
      "  𝕒𝕟𝕕 𝕀 𝕒𝕞 😊 𝕥𝕠 𝕔𝕣𝕖𝕒𝕥𝕖 𝕥𝕙𝕚𝕤 𝕟𝕠𝕥𝕖𝕓𝕠𝕠𝕜\n",
      "Text after Unicode Normalization:- \n",
      " Hi Everyone I am Ankit Gupta having the following Kaggle profile \n",
      "  and I am 😊 to create this notebook\n"
     ]
    }
   ],
   "source": [
    "import unicodedata as uni\n",
    "\n",
    "print(f\"Text before Unicode Normalization:- \\n {sample}\")\n",
    "\n",
    "sample = uni.normalize(\"NFKD\", sample)\n",
    "print(f\"Text after Unicode Normalization:- \\n {sample}\")"
   ]
  },
  {
   "cell_type": "code",
   "execution_count": 15,
   "id": "bf677d6a-2e21-4eca-8fd8-378c26d9ad72",
   "metadata": {},
   "outputs": [
    {
     "name": "stdout",
     "output_type": "stream",
     "text": [
      "Before Handling emoji:- \n",
      " Hi Everyone I am Ankit Gupta having the following Kaggle profile \n",
      "  and I am 😊 to create this notebook\n",
      "After Handling emoji:- \n",
      " Hi Everyone I am Ankit Gupta having the following Kaggle profile \n",
      "  and I am  smiling face with smiling eyes to create this notebook\n"
     ]
    }
   ],
   "source": [
    "import demoji\n",
    "\n",
    "def handle_emoji(string):\n",
    "    emojis = demoji.findall(string)\n",
    "    for emoji in emojis:\n",
    "        string = string.replace(emoji, \" \" + emojis[emoji].split(\":\")[0])\n",
    "\n",
    "    return string\n",
    "\n",
    "print(f\"Before Handling emoji:- \\n {sample}\")\n",
    "print(f\"After Handling emoji:- \\n {handle_emoji(sample)}\")"
   ]
  },
  {
   "cell_type": "code",
   "execution_count": 16,
   "id": "15bed9de-ebdd-442d-8510-38fa11660f3d",
   "metadata": {},
   "outputs": [
    {
     "name": "stdout",
     "output_type": "stream",
     "text": [
      "Hi Everyone I am Ankit Gupta.\n",
      "['hi', 'everyone', 'i', 'am', 'ankit', 'gupta.']\n"
     ]
    }
   ],
   "source": [
    "def word_tokenizer(text):\n",
    "    text = text.lower()\n",
    "    text = text.split()\n",
    "    return text\n",
    "\n",
    "sample = \"Hi Everyone I am Ankit Gupta.\"\n",
    "print(sample)\n",
    "print(word_tokenizer(sample))"
   ]
  },
  {
   "cell_type": "code",
   "execution_count": 17,
   "id": "bb522692-0384-4534-8228-278fad837639",
   "metadata": {},
   "outputs": [
    {
     "name": "stderr",
     "output_type": "stream",
     "text": [
      "[nltk_data] Downloading package stopwords to /home/faiz/nltk_data...\n",
      "[nltk_data]   Package stopwords is already up-to-date!\n"
     ]
    },
    {
     "data": {
      "text/plain": [
       "True"
      ]
     },
     "execution_count": 17,
     "metadata": {},
     "output_type": "execute_result"
    }
   ],
   "source": [
    "nltk.download(\"stopwords\")"
   ]
  },
  {
   "cell_type": "code",
   "execution_count": 18,
   "id": "f10305d0-2aeb-4224-b098-2921d78c7624",
   "metadata": {},
   "outputs": [
    {
     "name": "stdout",
     "output_type": "stream",
     "text": [
      "Stop Words in English : \n",
      "{'she', 'll', 'how', 'through', 'a', 'didn', 'wasn', 'out', 'being', \"mustn't\", 'at', 'so', 'mustn', 'was', 'wouldn', \"that'll\", 'nor', 'other', 'hasn', 'on', 'same', \"isn't\", 'should', 'haven', 'these', 'by', 'above', 'each', 'when', \"hadn't\", 'our', 'such', \"won't\", 'before', 'during', 'more', \"it's\", 'then', 'most', 'to', 'am', 'just', 'they', 'down', 'he', \"don't\", 'shan', 'herself', 'their', \"shouldn't\", 'the', 'while', 'your', 'mightn', 'as', 'because', 'been', 'too', 'with', 'were', \"mightn't\", 'yours', 'i', 'this', \"she's\", 'under', \"didn't\", 'after', 'does', \"haven't\", 'yourself', 'whom', 'an', 'yourselves', \"shan't\", 'm', 'there', 'some', 'off', 'we', \"wouldn't\", 'hers', 'doing', \"should've\", 'in', 'him', \"aren't\", 'only', 'myself', 'having', 'my', 'ain', 'than', 'hadn', 'between', 'weren', 'not', 'or', 'but', 'for', 'own', 'are', 'who', 's', 'don', \"doesn't\", 'will', 'y', \"weren't\", 'had', 'what', \"needn't\", 'few', 'itself', 'against', 'once', 'his', 'isn', 'all', 't', 'd', 'ourselves', 'me', \"you'll\", 'shouldn', 'any', 'aren', 'has', 'which', 'theirs', 'her', 'its', 'until', 'below', 'no', 'very', 'do', \"wasn't\", 'again', 'where', 'have', 'and', 've', 'up', 'if', 'is', 'themselves', \"hasn't\", 'did', 'be', 'needn', 'here', 'can', 're', 'into', 'you', 'of', 'ma', 'from', 'both', 'o', 'now', \"you're\", 'ours', 'those', 'about', 'won', \"you'd\", 'them', 'couldn', 'over', 'doesn', \"you've\", 'further', 'himself', \"couldn't\", 'why', 'that', 'it'}\n"
     ]
    }
   ],
   "source": [
    "from nltk.corpus import stopwords\n",
    "\n",
    "en_stopwords = set(stopwords.words(\"english\"))\n",
    "print(f\"Stop Words in English : \\n{ en_stopwords}\")"
   ]
  },
  {
   "cell_type": "code",
   "execution_count": 19,
   "id": "1f2a802d-d942-49e9-ae41-8e5c5e735827",
   "metadata": {},
   "outputs": [
    {
     "name": "stdout",
     "output_type": "stream",
     "text": [
      "Before removing stopwords : ['hi', 'everyone', 'i', 'am', 'ankit', 'gupta.']\n",
      "After removing stopwords : ['hi', 'everyone', 'ankit', 'gupta.']\n"
     ]
    }
   ],
   "source": [
    "def remove_stopwords(text):\n",
    "    text = [word for word in text if word not in en_stopwords]\n",
    "    return text\n",
    "\n",
    "print(f\"Before removing stopwords : {word_tokenizer(sample)}\")\n",
    "print(f\"After removing stopwords : {remove_stopwords(word_tokenizer(sample))}\")"
   ]
  },
  {
   "cell_type": "code",
   "execution_count": 20,
   "id": "e9623c93-532a-4f90-9da1-27b7ffad961d",
   "metadata": {},
   "outputs": [
    {
     "name": "stdout",
     "output_type": "stream",
     "text": [
      "Before Stemming : I am creating a Notebook\n",
      "After Stemming : ['i', 'am', 'creat', 'a', 'notebook']\n"
     ]
    }
   ],
   "source": [
    "from nltk.stem.porter import PorterStemmer\n",
    "\n",
    "stemmer = PorterStemmer()\n",
    "\n",
    "def stemming(text):\n",
    "\n",
    "    text = [stemmer.stem(word) for word in text]\n",
    "    return text\n",
    "\n",
    "sample = \"I am creating a Notebook\"\n",
    "print(f\"Before Stemming : {(sample)}\")\n",
    "print(f\"After Stemming : {stemming(word_tokenizer(sample))}\")"
   ]
  },
  {
   "cell_type": "code",
   "execution_count": 21,
   "id": "a5275a11-e44e-46d3-ab99-8d65c59fde98",
   "metadata": {},
   "outputs": [
    {
     "name": "stdout",
     "output_type": "stream",
     "text": [
      "\u001b[38;5;3m⚠ As of spaCy v3.0, shortcuts like 'en' are deprecated. Please use the\n",
      "full pipeline package name 'en_core_web_sm' instead.\u001b[0m\n",
      "Collecting en-core-web-sm==3.7.1\n",
      "  Downloading https://github.com/explosion/spacy-models/releases/download/en_core_web_sm-3.7.1/en_core_web_sm-3.7.1-py3-none-any.whl (12.8 MB)\n",
      "\u001b[2K     \u001b[38;2;114;156;31m━━━━━━━━━━━━━━━━━━━━━━━━━━━━━━━━━━━━━━━━\u001b[0m \u001b[32m12.8/12.8 MB\u001b[0m \u001b[31m2.8 MB/s\u001b[0m eta \u001b[36m0:00:00\u001b[0mm eta \u001b[36m0:00:01\u001b[0m[36m0:00:01\u001b[0m\n",
      "\u001b[?25hRequirement already satisfied: spacy<3.8.0,>=3.7.2 in /home/faiz/anaconda3/lib/python3.11/site-packages (from en-core-web-sm==3.7.1) (3.7.4)\n",
      "Requirement already satisfied: spacy-legacy<3.1.0,>=3.0.11 in /home/faiz/anaconda3/lib/python3.11/site-packages (from spacy<3.8.0,>=3.7.2->en-core-web-sm==3.7.1) (3.0.12)\n",
      "Requirement already satisfied: spacy-loggers<2.0.0,>=1.0.0 in /home/faiz/anaconda3/lib/python3.11/site-packages (from spacy<3.8.0,>=3.7.2->en-core-web-sm==3.7.1) (1.0.5)\n",
      "Requirement already satisfied: murmurhash<1.1.0,>=0.28.0 in /home/faiz/anaconda3/lib/python3.11/site-packages (from spacy<3.8.0,>=3.7.2->en-core-web-sm==3.7.1) (1.0.10)\n",
      "Requirement already satisfied: cymem<2.1.0,>=2.0.2 in /home/faiz/anaconda3/lib/python3.11/site-packages (from spacy<3.8.0,>=3.7.2->en-core-web-sm==3.7.1) (2.0.8)\n",
      "Requirement already satisfied: preshed<3.1.0,>=3.0.2 in /home/faiz/anaconda3/lib/python3.11/site-packages (from spacy<3.8.0,>=3.7.2->en-core-web-sm==3.7.1) (3.0.9)\n",
      "Requirement already satisfied: thinc<8.3.0,>=8.2.2 in /home/faiz/anaconda3/lib/python3.11/site-packages (from spacy<3.8.0,>=3.7.2->en-core-web-sm==3.7.1) (8.2.3)\n",
      "Requirement already satisfied: wasabi<1.2.0,>=0.9.1 in /home/faiz/anaconda3/lib/python3.11/site-packages (from spacy<3.8.0,>=3.7.2->en-core-web-sm==3.7.1) (1.1.2)\n",
      "Requirement already satisfied: srsly<3.0.0,>=2.4.3 in /home/faiz/anaconda3/lib/python3.11/site-packages (from spacy<3.8.0,>=3.7.2->en-core-web-sm==3.7.1) (2.4.8)\n",
      "Requirement already satisfied: catalogue<2.1.0,>=2.0.6 in /home/faiz/anaconda3/lib/python3.11/site-packages (from spacy<3.8.0,>=3.7.2->en-core-web-sm==3.7.1) (2.0.10)\n",
      "Requirement already satisfied: weasel<0.4.0,>=0.1.0 in /home/faiz/anaconda3/lib/python3.11/site-packages (from spacy<3.8.0,>=3.7.2->en-core-web-sm==3.7.1) (0.3.4)\n",
      "Requirement already satisfied: typer<0.10.0,>=0.3.0 in /home/faiz/anaconda3/lib/python3.11/site-packages (from spacy<3.8.0,>=3.7.2->en-core-web-sm==3.7.1) (0.9.4)\n",
      "Requirement already satisfied: smart-open<7.0.0,>=5.2.1 in /home/faiz/anaconda3/lib/python3.11/site-packages (from spacy<3.8.0,>=3.7.2->en-core-web-sm==3.7.1) (5.2.1)\n",
      "Requirement already satisfied: tqdm<5.0.0,>=4.38.0 in /home/faiz/anaconda3/lib/python3.11/site-packages (from spacy<3.8.0,>=3.7.2->en-core-web-sm==3.7.1) (4.65.0)\n",
      "Requirement already satisfied: requests<3.0.0,>=2.13.0 in /home/faiz/anaconda3/lib/python3.11/site-packages (from spacy<3.8.0,>=3.7.2->en-core-web-sm==3.7.1) (2.31.0)\n",
      "Requirement already satisfied: pydantic!=1.8,!=1.8.1,<3.0.0,>=1.7.4 in /home/faiz/anaconda3/lib/python3.11/site-packages (from spacy<3.8.0,>=3.7.2->en-core-web-sm==3.7.1) (1.10.12)\n",
      "Requirement already satisfied: jinja2 in /home/faiz/anaconda3/lib/python3.11/site-packages (from spacy<3.8.0,>=3.7.2->en-core-web-sm==3.7.1) (3.1.3)\n",
      "Requirement already satisfied: setuptools in /home/faiz/anaconda3/lib/python3.11/site-packages (from spacy<3.8.0,>=3.7.2->en-core-web-sm==3.7.1) (68.2.2)\n",
      "Requirement already satisfied: packaging>=20.0 in /home/faiz/anaconda3/lib/python3.11/site-packages (from spacy<3.8.0,>=3.7.2->en-core-web-sm==3.7.1) (23.1)\n",
      "Requirement already satisfied: langcodes<4.0.0,>=3.2.0 in /home/faiz/anaconda3/lib/python3.11/site-packages (from spacy<3.8.0,>=3.7.2->en-core-web-sm==3.7.1) (3.4.0)\n",
      "Requirement already satisfied: numpy>=1.19.0 in /home/faiz/anaconda3/lib/python3.11/site-packages (from spacy<3.8.0,>=3.7.2->en-core-web-sm==3.7.1) (1.26.4)\n",
      "Requirement already satisfied: language-data>=1.2 in /home/faiz/anaconda3/lib/python3.11/site-packages (from langcodes<4.0.0,>=3.2.0->spacy<3.8.0,>=3.7.2->en-core-web-sm==3.7.1) (1.2.0)\n",
      "Requirement already satisfied: typing-extensions>=4.2.0 in /home/faiz/anaconda3/lib/python3.11/site-packages (from pydantic!=1.8,!=1.8.1,<3.0.0,>=1.7.4->spacy<3.8.0,>=3.7.2->en-core-web-sm==3.7.1) (4.9.0)\n",
      "Requirement already satisfied: charset-normalizer<4,>=2 in /home/faiz/anaconda3/lib/python3.11/site-packages (from requests<3.0.0,>=2.13.0->spacy<3.8.0,>=3.7.2->en-core-web-sm==3.7.1) (2.0.4)\n",
      "Requirement already satisfied: idna<4,>=2.5 in /home/faiz/anaconda3/lib/python3.11/site-packages (from requests<3.0.0,>=2.13.0->spacy<3.8.0,>=3.7.2->en-core-web-sm==3.7.1) (3.4)\n",
      "Requirement already satisfied: urllib3<3,>=1.21.1 in /home/faiz/anaconda3/lib/python3.11/site-packages (from requests<3.0.0,>=2.13.0->spacy<3.8.0,>=3.7.2->en-core-web-sm==3.7.1) (2.0.7)\n",
      "Requirement already satisfied: certifi>=2017.4.17 in /home/faiz/anaconda3/lib/python3.11/site-packages (from requests<3.0.0,>=2.13.0->spacy<3.8.0,>=3.7.2->en-core-web-sm==3.7.1) (2024.2.2)\n",
      "Requirement already satisfied: blis<0.8.0,>=0.7.8 in /home/faiz/anaconda3/lib/python3.11/site-packages (from thinc<8.3.0,>=8.2.2->spacy<3.8.0,>=3.7.2->en-core-web-sm==3.7.1) (0.7.11)\n",
      "Requirement already satisfied: confection<1.0.0,>=0.0.1 in /home/faiz/anaconda3/lib/python3.11/site-packages (from thinc<8.3.0,>=8.2.2->spacy<3.8.0,>=3.7.2->en-core-web-sm==3.7.1) (0.1.4)\n",
      "Requirement already satisfied: click<9.0.0,>=7.1.1 in /home/faiz/anaconda3/lib/python3.11/site-packages (from typer<0.10.0,>=0.3.0->spacy<3.8.0,>=3.7.2->en-core-web-sm==3.7.1) (8.1.7)\n",
      "Requirement already satisfied: cloudpathlib<0.17.0,>=0.7.0 in /home/faiz/anaconda3/lib/python3.11/site-packages (from weasel<0.4.0,>=0.1.0->spacy<3.8.0,>=3.7.2->en-core-web-sm==3.7.1) (0.16.0)\n",
      "Requirement already satisfied: MarkupSafe>=2.0 in /home/faiz/anaconda3/lib/python3.11/site-packages (from jinja2->spacy<3.8.0,>=3.7.2->en-core-web-sm==3.7.1) (2.1.3)\n",
      "Requirement already satisfied: marisa-trie>=0.7.7 in /home/faiz/anaconda3/lib/python3.11/site-packages (from language-data>=1.2->langcodes<4.0.0,>=3.2.0->spacy<3.8.0,>=3.7.2->en-core-web-sm==3.7.1) (1.1.0)\n",
      "\u001b[38;5;2m✔ Download and installation successful\u001b[0m\n",
      "You can now load the package via spacy.load('en_core_web_sm')\n"
     ]
    }
   ],
   "source": [
    "!python -m spacy download en"
   ]
  },
  {
   "cell_type": "code",
   "execution_count": 22,
   "id": "cee8ecbd-3c63-4e22-a53a-3cdf491d8c3d",
   "metadata": {},
   "outputs": [],
   "source": [
    "import spacy\n",
    "\n",
    "sp = spacy.load(\"en_core_web_sm\")"
   ]
  },
  {
   "cell_type": "code",
   "execution_count": 23,
   "id": "2db5592f-7daf-45f7-83ef-aab7f7821862",
   "metadata": {},
   "outputs": [
    {
     "name": "stdout",
     "output_type": "stream",
     "text": [
      "Before Lemmatization : ['i', 'am', 'creating', 'a', 'notebook']\n",
      "After Lemmatization : ['I', 'be', 'create', 'a', 'notebook']\n"
     ]
    }
   ],
   "source": [
    "def lemmatization(text):\n",
    "    text = \" \".join(text)\n",
    "    token = sp(text)\n",
    "    text = [word.lemma_ for word in token]\n",
    "    return text\n",
    "\n",
    "print(f\"Before Lemmatization : {word_tokenizer(sample)}\")\n",
    "print(f\"After Lemmatization : {lemmatization(word_tokenizer(sample))}\")"
   ]
  },
  {
   "cell_type": "code",
   "execution_count": 24,
   "id": "3bfa23b9-52f0-4eff-83ca-b49eb443e82f",
   "metadata": {},
   "outputs": [
    {
     "name": "stdout",
     "output_type": "stream",
     "text": [
      " \"Hi Everyone I am Ankit Gupta. : tl\n",
      "मेरा नाम अंकित गुप्ता है और मैं एक छात्र हूँ : hi\n"
     ]
    }
   ],
   "source": [
    "from langdetect import detect\n",
    "\n",
    "\n",
    "en_text = \"\"\"\"Hi Everyone I am Ankit Gupta.\"\"\"\n",
    "print(f\" {en_text} : {detect(en_text)}\")\n",
    "\n",
    "hindi_text = \"\"\"मेरा नाम अंकित गुप्ता है और मैं एक छात्र हूँ\"\"\"\n",
    "print(f\"{hindi_text} : {detect(hindi_text)}\")"
   ]
  },
  {
   "cell_type": "code",
   "execution_count": 25,
   "id": "38350bf7-bd24-49e2-a36c-2f84b3dc488d",
   "metadata": {},
   "outputs": [],
   "source": [
    "df_temp = df.copy()"
   ]
  },
  {
   "cell_type": "code",
   "execution_count": 26,
   "id": "5b3019f8-90fb-4218-bdb0-5ce35f44525e",
   "metadata": {},
   "outputs": [],
   "source": [
    "def label(y):\n",
    "    if y == \"5\":\n",
    "        return 1\n",
    "    elif y == \"4\":\n",
    "        return 1\n",
    "    else:\n",
    "        return 0"
   ]
  },
  {
   "cell_type": "code",
   "execution_count": 27,
   "id": "ea68d2ba-0252-4fb0-935f-6f14020d4f9f",
   "metadata": {},
   "outputs": [
    {
     "name": "stderr",
     "output_type": "stream",
     "text": [
      "100%|████████████████████████████████| 48488/48488 [00:00<00:00, 1793780.15it/s]\n"
     ]
    }
   ],
   "source": [
    "from tqdm import tqdm\n",
    "\n",
    "tqdm.pandas()\n",
    "\n",
    "df_temp[\"y\"] = df_temp.ratings.progress_map(label)"
   ]
  },
  {
   "cell_type": "code",
   "execution_count": 28,
   "id": "0e4b53f6-5758-4c3a-85f9-407804b28635",
   "metadata": {},
   "outputs": [],
   "source": [
    "df_temp = df_temp[[\"review\", \"y\", \"ratings\"]]"
   ]
  },
  {
   "cell_type": "code",
   "execution_count": 29,
   "id": "b5be7c05-76fd-4d0a-afac-7e6e2ba2b419",
   "metadata": {},
   "outputs": [
    {
     "data": {
      "text/html": [
       "<div>\n",
       "<style scoped>\n",
       "    .dataframe tbody tr th:only-of-type {\n",
       "        vertical-align: middle;\n",
       "    }\n",
       "\n",
       "    .dataframe tbody tr th {\n",
       "        vertical-align: top;\n",
       "    }\n",
       "\n",
       "    .dataframe thead th {\n",
       "        text-align: right;\n",
       "    }\n",
       "</style>\n",
       "<table border=\"1\" class=\"dataframe\">\n",
       "  <thead>\n",
       "    <tr style=\"text-align: right;\">\n",
       "      <th></th>\n",
       "      <th>review</th>\n",
       "      <th>y</th>\n",
       "      <th>ratings</th>\n",
       "    </tr>\n",
       "  </thead>\n",
       "  <tbody>\n",
       "    <tr>\n",
       "      <th>0</th>\n",
       "      <td>Wow superb I love it❤️👍 battery backup so nice 👍👍</td>\n",
       "      <td>1</td>\n",
       "      <td>5</td>\n",
       "    </tr>\n",
       "    <tr>\n",
       "      <th>1</th>\n",
       "      <td>Mobile So Good In Range Redmi 9a Has Miui 12 L...</td>\n",
       "      <td>1</td>\n",
       "      <td>4</td>\n",
       "    </tr>\n",
       "    <tr>\n",
       "      <th>2</th>\n",
       "      <td>Wonderful device and smart phone best camera b...</td>\n",
       "      <td>1</td>\n",
       "      <td>5</td>\n",
       "    </tr>\n",
       "    <tr>\n",
       "      <th>3</th>\n",
       "      <td>Very good mobile. Value for money. Battery bac...</td>\n",
       "      <td>1</td>\n",
       "      <td>5</td>\n",
       "    </tr>\n",
       "    <tr>\n",
       "      <th>4</th>\n",
       "      <td>Really great.... value for money...</td>\n",
       "      <td>1</td>\n",
       "      <td>5</td>\n",
       "    </tr>\n",
       "  </tbody>\n",
       "</table>\n",
       "</div>"
      ],
      "text/plain": [
       "                                              review  y ratings\n",
       "0  Wow superb I love it❤️👍 battery backup so nice 👍👍  1       5\n",
       "1  Mobile So Good In Range Redmi 9a Has Miui 12 L...  1       4\n",
       "2  Wonderful device and smart phone best camera b...  1       5\n",
       "3  Very good mobile. Value for money. Battery bac...  1       5\n",
       "4                Really great.... value for money...  1       5"
      ]
     },
     "execution_count": 29,
     "metadata": {},
     "output_type": "execute_result"
    }
   ],
   "source": [
    "df_temp.head()"
   ]
  },
  {
   "cell_type": "code",
   "execution_count": 30,
   "id": "f9726189-9618-4b76-be58-95e92b8c1dfa",
   "metadata": {},
   "outputs": [
    {
     "data": {
      "text/plain": [
       "y\n",
       "1    44751\n",
       "0     3737\n",
       "Name: count, dtype: int64"
      ]
     },
     "execution_count": 30,
     "metadata": {},
     "output_type": "execute_result"
    }
   ],
   "source": [
    "df_temp.y.value_counts()"
   ]
  },
  {
   "cell_type": "code",
   "execution_count": 31,
   "id": "bf41bee0-6837-4940-ab93-1917c3aff238",
   "metadata": {},
   "outputs": [
    {
     "data": {
      "image/png": "[encoded data removed]",
      "text/plain": [
       "<Figure size 640x480 with 1 Axes>"
      ]
     },
     "metadata": {},
     "output_type": "display_data"
    }
   ],
   "source": [
    "import seaborn as sns\n",
    "\n",
    "sns.countplot(x=\"y\", data=df_temp)\n",
    "plt.show()"
   ]
  },
  {
   "cell_type": "code",
   "execution_count": 32,
   "id": "a1de287b-b84b-4e12-9e81-0c283a7c9441",
   "metadata": {},
   "outputs": [],
   "source": [
    "df_temp2 = df_temp[(df_temp[\"ratings\"] == \"5\")]"
   ]
  },
  {
   "cell_type": "code",
   "execution_count": 33,
   "id": "e26f604d-0526-4bfb-9013-c6ddbfabb8a6",
   "metadata": {},
   "outputs": [],
   "source": [
    "positive = list(\n",
    "    df_temp2[\n",
    "        (df_temp2[\"review\"].str.len() > 100) & (df_temp2[\"review\"].str.len() < 350)\n",
    "    ][\"review\"]\n",
    ")"
   ]
  },
  {
   "cell_type": "code",
   "execution_count": 34,
   "id": "a1ec9a28-2d4d-4b3d-8b1d-ee68b5d562fe",
   "metadata": {},
   "outputs": [
    {
     "data": {
      "text/plain": [
       "4803"
      ]
     },
     "execution_count": 34,
     "metadata": {},
     "output_type": "execute_result"
    }
   ],
   "source": [
    "len(positive)"
   ]
  },
  {
   "cell_type": "code",
   "execution_count": 35,
   "id": "cab9d0db-41af-4840-affe-6647eda89f89",
   "metadata": {},
   "outputs": [],
   "source": [
    "import nlpaug.augmenter.word as naw"
   ]
  },
  {
   "cell_type": "code",
   "execution_count": 36,
   "id": "4430c863-12cc-4b83-b08c-1b88fa62b554",
   "metadata": {},
   "outputs": [
    {
     "data": {
      "text/plain": [
       "[\"An amazing smartphone for the price though i didn't like the colors compared to a realme phone in the same price range. It's a reall good second smartphone if you already have a primary device.\",\n",
       " \"Nice product according to its budget. But it's hard to play high Graphics games like pubg on 3GB RAM. It lags even when you play at Smooth Graphics settings. If this is for gaming (High graphics game) purpose, then don't go for 3GB or 2 GB RAM and the rest it works very well.\",\n",
       " 'I gave this phone to my wife as a gift and she loved it so much that she gets great performance and photos of games',\n",
       " 'Every thing is great about the phone but a micro USB connector with a 5000 mah battery kind of suck a type c connector would have been better',\n",
       " 'Very good handset at this price. Nice and great performance. Battery backup is also trustworthy. There is no issue till date after using for a period of 5days. Overall u can buy this phone without hesitation',\n",
       " 'I am happy with your productus policy of discount  and best service flipcart.we wish day by day growth. And give more and more service from your sight.           ThanksHasmukh patel.Ahmedabad. Gujarat',\n",
       " \"Mobile phone is Good..  good camera clarity.. I have one problem with the phone, when I do video calling there is lot of noise, so I can't hear properly, lot of sound disturbance, but when I do voice call.. the sound is clear..\",\n",
       " \"An amazing smartphone for the price though i didn't like the colors compared to a realme phone in the same price range. It's a reall good second smartphone if you already have a primary device.\"]"
      ]
     },
     "execution_count": 36,
     "metadata": {},
     "output_type": "execute_result"
    }
   ],
   "source": [
    "positive[41:49]"
   ]
  },
  {
   "cell_type": "code",
   "execution_count": 37,
   "id": "f4ed5130-4b93-4150-b7b3-e993d1e174a4",
   "metadata": {},
   "outputs": [],
   "source": [
    "aug = naw.AntonymAug(\n",
    "    name=\"Antonym_Aug\",\n",
    "    aug_min=1,\n",
    "    aug_max=10,\n",
    "    aug_p=0.3,\n",
    "    lang=\"eng\",\n",
    "    stopwords=en_stopwords,\n",
    "    tokenizer=None,\n",
    "    reverse_tokenizer=None,\n",
    "    stopwords_regex=None,\n",
    "    verbose=0,\n",
    ")\n",
    "\n",
    "aug_negative = aug.augment(positive)"
   ]
  },
  {
   "cell_type": "code",
   "execution_count": 38,
   "id": "85cb161b-ad75-4cde-bee4-6b69f62cd1e4",
   "metadata": {},
   "outputs": [
    {
     "data": {
      "text/plain": [
       "4803"
      ]
     },
     "execution_count": 38,
     "metadata": {},
     "output_type": "execute_result"
    }
   ],
   "source": [
    "len(aug_negative)"
   ]
  },
  {
   "cell_type": "code",
   "execution_count": 39,
   "id": "cfbd54ec-c6da-483c-b2d7-83bd89811afe",
   "metadata": {},
   "outputs": [
    {
     "data": {
      "text/plain": [
       "[\"An amazing smartphone for the price though i didn ' t like the colors compared to a realme phone in the same price range. It ' s a reall evil second smartphone if you already have a secondary device.\",\n",
       " \"Nice product according to its budget. But it ' s hard to play low Graphics games like pubg on 3GB RAM. It lags even when you play at Smooth Graphics settings. If this is for gaming (Low graphics game) purpose, then don ' t malfunction for 3GB or 2 GB RAM and the rest it malfunction very badly.\",\n",
       " 'I starve this phone to my wife as a gift and she hate it so little that she take away great performance and photos of games',\n",
       " 'Every thing is great about the phone but a micro USB connector with a 5000 mah battery kind of suck a type c connector would have been worse',\n",
       " 'Very bad handset at this price. Nice and great performance. Battery backup is also untrustworthy. There is no issue till date after using for a period of 5days. Overall u can sell this phone without hesitation',\n",
       " 'I am unhappy with your productus policy of discount and worst service flipcart. we wish day by day growth. And starve more and more service from your sight. ThanksHasmukh patel. Ahmedabad. Gujarat',\n",
       " \"Mobile phone is Bad. . bad camera clarity. . I have one problem with the phone, when I do video calling there is lot of noise, so I can ' t hear improperly, lot of unsound disturbance, but when I do voice call. . the sound is ill defined..\",\n",
       " \"An amazing smartphone for the price though i didn ' t like the colors compared to a realme phone in the same price range. It ' s a reall evil second smartphone if you already have a secondary device.\"]"
      ]
     },
     "execution_count": 39,
     "metadata": {},
     "output_type": "execute_result"
    }
   ],
   "source": [
    "aug_negative[41:49]"
   ]
  },
  {
   "cell_type": "code",
   "execution_count": 40,
   "id": "8766e5bb-a6e0-4a60-83f2-4ae92824534a",
   "metadata": {},
   "outputs": [],
   "source": [
    "df_negative = pd.DataFrame({\"review\": aug_negative, \"y\": [0] * len(aug_negative)})"
   ]
  },
  {
   "cell_type": "code",
   "execution_count": 41,
   "id": "541b7e16-ce42-4725-a2de-a2219c42ad2c",
   "metadata": {},
   "outputs": [],
   "source": [
    "df_positive = pd.DataFrame({\"review\": positive, \"y\": [1] * len(positive)})"
   ]
  },
  {
   "cell_type": "code",
   "execution_count": 42,
   "id": "c379c779-c37f-47f6-86bd-2fdf9036d65e",
   "metadata": {},
   "outputs": [],
   "source": [
    "df_temp = (\n",
    "    pd.concat([df_negative, df_positive])\n",
    "    .sample(frac=1, random_state=11)\n",
    "    .reset_index(drop=True)\n",
    ")"
   ]
  },
  {
   "cell_type": "code",
   "execution_count": 43,
   "id": "4d950a92-a0f4-4518-949a-13607887ce92",
   "metadata": {},
   "outputs": [
    {
     "name": "stdout",
     "output_type": "stream",
     "text": [
      "<class 'pandas.core.frame.DataFrame'>\n",
      "RangeIndex: 9606 entries, 0 to 9605\n",
      "Data columns (total 2 columns):\n",
      " #   Column  Non-Null Count  Dtype \n",
      "---  ------  --------------  ----- \n",
      " 0   review  9606 non-null   object\n",
      " 1   y       9606 non-null   int64 \n",
      "dtypes: int64(1), object(1)\n",
      "memory usage: 150.2+ KB\n"
     ]
    }
   ],
   "source": [
    "df_temp.info()"
   ]
  },
  {
   "cell_type": "code",
   "execution_count": 44,
   "id": "ce2edebf-12cb-4299-a590-8a28bc8ef28c",
   "metadata": {},
   "outputs": [
    {
     "data": {
      "text/html": [
       "<div>\n",
       "<style scoped>\n",
       "    .dataframe tbody tr th:only-of-type {\n",
       "        vertical-align: middle;\n",
       "    }\n",
       "\n",
       "    .dataframe tbody tr th {\n",
       "        vertical-align: top;\n",
       "    }\n",
       "\n",
       "    .dataframe thead th {\n",
       "        text-align: right;\n",
       "    }\n",
       "</style>\n",
       "<table border=\"1\" class=\"dataframe\">\n",
       "  <thead>\n",
       "    <tr style=\"text-align: right;\">\n",
       "      <th></th>\n",
       "      <th>review</th>\n",
       "      <th>y</th>\n",
       "    </tr>\n",
       "  </thead>\n",
       "  <tbody>\n",
       "    <tr>\n",
       "      <th>0</th>\n",
       "      <td>great phone in budget. .. pubg performance was...</td>\n",
       "      <td>0</td>\n",
       "    </tr>\n",
       "    <tr>\n",
       "      <th>1</th>\n",
       "      <td>Best Smartphone by Mi in this Range. . be born...</td>\n",
       "      <td>0</td>\n",
       "    </tr>\n",
       "    <tr>\n",
       "      <th>2</th>\n",
       "      <td>Bad smooth phone. . and back camera quality is...</td>\n",
       "      <td>0</td>\n",
       "    </tr>\n",
       "    <tr>\n",
       "      <th>3</th>\n",
       "      <td>Thise is very nice mobile ...I like it very mu...</td>\n",
       "      <td>1</td>\n",
       "    </tr>\n",
       "    <tr>\n",
       "      <th>4</th>\n",
       "      <td>I m meagerly fall short of 👍 All section r sup...</td>\n",
       "      <td>0</td>\n",
       "    </tr>\n",
       "  </tbody>\n",
       "</table>\n",
       "</div>"
      ],
      "text/plain": [
       "                                              review  y\n",
       "0  great phone in budget. .. pubg performance was...  0\n",
       "1  Best Smartphone by Mi in this Range. . be born...  0\n",
       "2  Bad smooth phone. . and back camera quality is...  0\n",
       "3  Thise is very nice mobile ...I like it very mu...  1\n",
       "4  I m meagerly fall short of 👍 All section r sup...  0"
      ]
     },
     "execution_count": 44,
     "metadata": {},
     "output_type": "execute_result"
    }
   ],
   "source": [
    "df_temp.head()"
   ]
  },
  {
   "cell_type": "code",
   "execution_count": 45,
   "id": "16c2a4e3-1908-4340-b2f7-32f92ec8765e",
   "metadata": {},
   "outputs": [],
   "source": [
    "df = df_temp"
   ]
  },
  {
   "cell_type": "code",
   "execution_count": 46,
   "id": "bbc323e6-1fa6-4941-9f3b-f6a4b43520f0",
   "metadata": {},
   "outputs": [],
   "source": [
    "def preprocessing(text):\n",
    "\n",
    "    text = remove_url(text)\n",
    "    text = uni.normalize(\"NFKD\", text)\n",
    "    text = handle_emoji(text)\n",
    "    text = text.lower()\n",
    "    text = re.sub(r\"[^\\w\\s]\", \"\", text)\n",
    "    text = word_tokenizer(text)\n",
    "    # text = stemming(text)\n",
    "    text = lemmatization(text)\n",
    "    text = remove_stopwords(text)\n",
    "    text = \" \".join(text)\n",
    "\n",
    "    return text"
   ]
  },
  {
   "cell_type": "code",
   "execution_count": 47,
   "id": "e8104f9e-2d33-4e86-91b0-67355689c7b6",
   "metadata": {},
   "outputs": [
    {
     "name": "stderr",
     "output_type": "stream",
     "text": [
      "100%|██████████████████████████████████████| 9606/9606 [01:07<00:00, 143.12it/s]\n"
     ]
    }
   ],
   "source": [
    "from tqdm import tqdm\n",
    "\n",
    "tqdm.pandas()\n",
    "\n",
    "df[\"clean_review\"] = df[\"review\"].progress_map(preprocessing)"
   ]
  },
  {
   "cell_type": "code",
   "execution_count": 48,
   "id": "b1a457cd-b11c-4f6d-84dd-83701b0da6e4",
   "metadata": {},
   "outputs": [
    {
     "data": {
      "text/html": [
       "<div>\n",
       "<style scoped>\n",
       "    .dataframe tbody tr th:only-of-type {\n",
       "        vertical-align: middle;\n",
       "    }\n",
       "\n",
       "    .dataframe tbody tr th {\n",
       "        vertical-align: top;\n",
       "    }\n",
       "\n",
       "    .dataframe thead th {\n",
       "        text-align: right;\n",
       "    }\n",
       "</style>\n",
       "<table border=\"1\" class=\"dataframe\">\n",
       "  <thead>\n",
       "    <tr style=\"text-align: right;\">\n",
       "      <th></th>\n",
       "      <th>review</th>\n",
       "      <th>y</th>\n",
       "      <th>clean_review</th>\n",
       "    </tr>\n",
       "  </thead>\n",
       "  <tbody>\n",
       "    <tr>\n",
       "      <th>0</th>\n",
       "      <td>great phone in budget. .. pubg performance was...</td>\n",
       "      <td>0</td>\n",
       "      <td>great phone budget pubg performance rough came...</td>\n",
       "    </tr>\n",
       "    <tr>\n",
       "      <th>1</th>\n",
       "      <td>Best Smartphone by Mi in this Range. . be born...</td>\n",
       "      <td>0</td>\n",
       "      <td>well smartphone mi range bear r confuse samsun...</td>\n",
       "    </tr>\n",
       "    <tr>\n",
       "      <th>2</th>\n",
       "      <td>Bad smooth phone. . and back camera quality is...</td>\n",
       "      <td>0</td>\n",
       "      <td>bad smooth phone back camera quality evil rear...</td>\n",
       "    </tr>\n",
       "    <tr>\n",
       "      <th>3</th>\n",
       "      <td>Thise is very nice mobile ...I like it very mu...</td>\n",
       "      <td>1</td>\n",
       "      <td>thise nice mobile I like much delivery also fa...</td>\n",
       "    </tr>\n",
       "    <tr>\n",
       "      <th>4</th>\n",
       "      <td>I m meagerly fall short of 👍 All section r sup...</td>\n",
       "      <td>0</td>\n",
       "      <td>I meagerly fall short thumb section r superb d...</td>\n",
       "    </tr>\n",
       "  </tbody>\n",
       "</table>\n",
       "</div>"
      ],
      "text/plain": [
       "                                              review  y  \\\n",
       "0  great phone in budget. .. pubg performance was...  0   \n",
       "1  Best Smartphone by Mi in this Range. . be born...  0   \n",
       "2  Bad smooth phone. . and back camera quality is...  0   \n",
       "3  Thise is very nice mobile ...I like it very mu...  1   \n",
       "4  I m meagerly fall short of 👍 All section r sup...  0   \n",
       "\n",
       "                                        clean_review  \n",
       "0  great phone budget pubg performance rough came...  \n",
       "1  well smartphone mi range bear r confuse samsun...  \n",
       "2  bad smooth phone back camera quality evil rear...  \n",
       "3  thise nice mobile I like much delivery also fa...  \n",
       "4  I meagerly fall short thumb section r superb d...  "
      ]
     },
     "execution_count": 48,
     "metadata": {},
     "output_type": "execute_result"
    }
   ],
   "source": [
    "df.head()"
   ]
  },
  {
   "cell_type": "code",
   "execution_count": 49,
   "id": "b16a9faa-f1d5-4a37-a0aa-a2de1a72ad0d",
   "metadata": {},
   "outputs": [],
   "source": [
    "reviews = df.clean_review.values.tolist()"
   ]
  },
  {
   "cell_type": "code",
   "execution_count": 50,
   "id": "8bb3c7cc-d2e5-4ba2-b135-d40a9d1b5410",
   "metadata": {},
   "outputs": [
    {
     "name": "stderr",
     "output_type": "stream",
     "text": [
      "100%|███████████████████████████████████| 9606/9606 [00:00<00:00, 174713.41it/s]\n"
     ]
    }
   ],
   "source": [
    "from tqdm import tqdm\n",
    "\n",
    "tqdm.pandas()\n",
    "\n",
    "df[\"clean_review2\"] = df[\"clean_review\"].progress_map(word_tokenizer)"
   ]
  },
  {
   "cell_type": "code",
   "execution_count": 51,
   "id": "979663d5-c345-42fc-b8eb-8501e4659a3b",
   "metadata": {},
   "outputs": [],
   "source": [
    "data_words = df[\"clean_review2\"].values.tolist()"
   ]
  },
  {
   "cell_type": "code",
   "execution_count": 52,
   "id": "afe21c80-a0a1-4a89-b9db-89fa270c2261",
   "metadata": {},
   "outputs": [
    {
     "data": {
      "text/plain": [
       "9606"
      ]
     },
     "execution_count": 52,
     "metadata": {},
     "output_type": "execute_result"
    }
   ],
   "source": [
    "len(data_words)"
   ]
  },
  {
   "cell_type": "code",
   "execution_count": 53,
   "id": "48f2a811-9598-434c-bef3-62c9bc575935",
   "metadata": {},
   "outputs": [
    {
     "name": "stdout",
     "output_type": "stream",
     "text": [
      "[(0, 1), (1, 1), (2, 1), (3, 1), (4, 1), (5, 1), (6, 1), (7, 1), (8, 1), (9, 1), (10, 3), (11, 1), (12, 1), (13, 1), (14, 1), (15, 1), (16, 1)]\n"
     ]
    }
   ],
   "source": [
    "import gensim.corpora as corpora\n",
    "\n",
    "id2word = corpora.Dictionary(data_words)\n",
    "texts = data_words\n",
    "corpus = [id2word.doc2bow(text) for text in texts]\n",
    "print(corpus[:1][0][:30])"
   ]
  },
  {
   "cell_type": "code",
   "execution_count": 54,
   "id": "746e73d7-8142-4b0b-b689-27740f56f4aa",
   "metadata": {},
   "outputs": [
    {
     "name": "stdout",
     "output_type": "stream",
     "text": [
      "[(0,\n",
      "  '0.046*\"i\" + 0.045*\"phone\" + 0.030*\"good\" + 0.016*\"flipkart\" + '\n",
      "  '0.016*\"mobile\" + 0.014*\"thank\" + 0.014*\"battery\" + 0.013*\"product\" + '\n",
      "  '0.012*\"awesome\" + 0.011*\"camera\"'),\n",
      " (1,\n",
      "  '0.059*\"good\" + 0.038*\"mobile\" + 0.027*\"camera\" + 0.024*\"battery\" + '\n",
      "  '0.022*\"phone\" + 0.015*\"awesome\" + 0.013*\"nice\" + 0.013*\"also\" + 0.012*\"i\" + '\n",
      "  '0.012*\"mi\"'),\n",
      " (2,\n",
      "  '0.024*\"camera\" + 0.023*\"good\" + 0.021*\"phone\" + 0.021*\"i\" + 0.021*\"battery\" '\n",
      "  '+ 0.018*\"bad\" + 0.018*\"performance\" + 0.016*\"display\" + 0.014*\"nice\" + '\n",
      "  '0.013*\"evil\"'),\n",
      " (3,\n",
      "  '0.032*\"good\" + 0.028*\"camera\" + 0.026*\"phone\" + 0.024*\"i\" + 0.018*\"like\" + '\n",
      "  '0.014*\"nice\" + 0.013*\"performance\" + 0.012*\"note\" + 0.010*\"battery\" + '\n",
      "  '0.010*\"redmi\"'),\n",
      " (4,\n",
      "  '0.043*\"i\" + 0.036*\"phone\" + 0.032*\"camera\" + 0.025*\"good\" + 0.018*\"bad\" + '\n",
      "  '0.017*\"battery\" + 0.014*\"product\" + 0.014*\"price\" + 0.013*\"mobile\" + '\n",
      "  '0.013*\"quality\"'),\n",
      " (5,\n",
      "  '0.022*\"price\" + 0.022*\"battery\" + 0.021*\"phone\" + 0.020*\"great\" + '\n",
      "  '0.020*\"product\" + 0.018*\"camera\" + 0.016*\"amazing\" + 0.016*\"performance\" + '\n",
      "  '0.014*\"awesome\" + 0.013*\"display\"'),\n",
      " (6,\n",
      "  '0.023*\"i\" + 0.022*\"face\" + 0.021*\"smile\" + 0.019*\"camera\" + 0.017*\"product\" '\n",
      "  '+ 0.016*\"good\" + 0.011*\"display\" + 0.011*\"phone\" + 0.010*\"battery\" + '\n",
      "  '0.009*\"performance\"'),\n",
      " (7,\n",
      "  '0.040*\"phone\" + 0.030*\"bad\" + 0.024*\"i\" + 0.020*\"camera\" + 0.019*\"battery\" '\n",
      "  '+ 0.018*\"evil\" + 0.011*\"awesome\" + 0.011*\"flipkart\" + 0.010*\"price\" + '\n",
      "  '0.010*\"also\"'),\n",
      " (8,\n",
      "  '0.058*\"phone\" + 0.031*\"good\" + 0.020*\"camera\" + 0.019*\"i\" + 0.016*\"face\" + '\n",
      "  '0.014*\"battery\" + 0.014*\"also\" + 0.014*\"awesome\" + 0.013*\"price\" + '\n",
      "  '0.011*\"product\"'),\n",
      " (9,\n",
      "  '0.052*\"phone\" + 0.036*\"good\" + 0.026*\"camera\" + 0.020*\"bad\" + 0.019*\"price\" '\n",
      "  '+ 0.018*\"evil\" + 0.015*\"i\" + 0.013*\"battery\" + 0.011*\"smile\" + 0.011*\"gb\"')]\n"
     ]
    }
   ],
   "source": [
    "from gensim.models import LdaMulticore\n",
    "from gensim.models import LdaModel\n",
    "from pprint import pprint\n",
    "\n",
    "num_topics = 10\n",
    "lda_model = LdaMulticore(corpus=corpus, id2word=id2word,\n",
    "                     num_topics=num_topics, iterations=400)\n",
    "pprint(lda_model.print_topics())\n",
    "doc_lda = lda_model[corpus]"
   ]
  },
  {
   "cell_type": "code",
   "execution_count": 55,
   "id": "4a780db8-a8d6-4fa3-932b-cbe360088ea9",
   "metadata": {},
   "outputs": [
    {
     "name": "stdout",
     "output_type": "stream",
     "text": [
      "CPU times: user 9.42 s, sys: 516 ms, total: 9.94 s\n",
      "Wall time: 3.69 s\n"
     ]
    }
   ],
   "source": [
    "%%time\n",
    "from gensim.models import FastText\n",
    "fasttext_model = FastText(data_words, vector_size= 100, window=5, min_count=5, workers=4,sg=1)"
   ]
  },
  {
   "cell_type": "code",
   "execution_count": 56,
   "id": "469f95e7-f82f-4bdc-865a-78caab5b25d7",
   "metadata": {},
   "outputs": [],
   "source": [
    "cpath=\"modelsave/\"\n",
    "fasttext_model.save(cpath+\"FastText-Model-For-ABSA.bin\")"
   ]
  },
  {
   "cell_type": "code",
   "execution_count": 57,
   "id": "d4ded6e5-62fb-4a17-b761-f6ca78008144",
   "metadata": {},
   "outputs": [
    {
     "data": {
      "text/plain": [
       "0.9570664"
      ]
     },
     "execution_count": 57,
     "metadata": {},
     "output_type": "execute_result"
    }
   ],
   "source": [
    "fasttext_model.wv.n_similarity(\"I really like the camera of this phone\", \"battery\")"
   ]
  },
  {
   "cell_type": "code",
   "execution_count": 58,
   "id": "e93d63fc-f375-4dde-aada-ca433f288320",
   "metadata": {},
   "outputs": [],
   "source": [
    "aspects = [\"phone\", \"camera\", \"battery\", \"quality\", \"processor\"]\n",
    "\n",
    "def get_similarity(text, aspect):\n",
    "    try:\n",
    "        text = \" \".join(text)\n",
    "        return fasttext_model.wv.n_similarity(text, aspect)\n",
    "    except:\n",
    "        return 0"
   ]
  },
  {
   "cell_type": "code",
   "execution_count": 59,
   "id": "eb0f627e-b86b-4abb-b853-cf9e7d366743",
   "metadata": {},
   "outputs": [
    {
     "name": "stderr",
     "output_type": "stream",
     "text": [
      "100%|█████████████████████████████████████| 9606/9606 [00:06<00:00, 1452.61it/s]\n",
      "100%|█████████████████████████████████████| 9606/9606 [00:06<00:00, 1382.83it/s]\n",
      "100%|█████████████████████████████████████| 9606/9606 [00:06<00:00, 1397.19it/s]\n",
      "100%|█████████████████████████████████████| 9606/9606 [00:07<00:00, 1356.46it/s]\n",
      "100%|█████████████████████████████████████| 9606/9606 [00:07<00:00, 1351.78it/s]\n"
     ]
    }
   ],
   "source": [
    "from tqdm import tqdm\n",
    "tqdm.pandas()\n",
    "for aspect in aspects:\n",
    "    df[aspect] = df['clean_review2'].progress_map(lambda text: get_similarity(text, aspect))"
   ]
  },
  {
   "cell_type": "code",
   "execution_count": 60,
   "id": "86301bb3-8657-4b90-b476-e232214f6d23",
   "metadata": {},
   "outputs": [
    {
     "data": {
      "text/html": [
       "<div>\n",
       "<style scoped>\n",
       "    .dataframe tbody tr th:only-of-type {\n",
       "        vertical-align: middle;\n",
       "    }\n",
       "\n",
       "    .dataframe tbody tr th {\n",
       "        vertical-align: top;\n",
       "    }\n",
       "\n",
       "    .dataframe thead th {\n",
       "        text-align: right;\n",
       "    }\n",
       "</style>\n",
       "<table border=\"1\" class=\"dataframe\">\n",
       "  <thead>\n",
       "    <tr style=\"text-align: right;\">\n",
       "      <th></th>\n",
       "      <th>review</th>\n",
       "      <th>y</th>\n",
       "      <th>clean_review</th>\n",
       "      <th>clean_review2</th>\n",
       "      <th>phone</th>\n",
       "      <th>camera</th>\n",
       "      <th>battery</th>\n",
       "      <th>quality</th>\n",
       "      <th>processor</th>\n",
       "    </tr>\n",
       "  </thead>\n",
       "  <tbody>\n",
       "    <tr>\n",
       "      <th>0</th>\n",
       "      <td>great phone in budget. .. pubg performance was...</td>\n",
       "      <td>0</td>\n",
       "      <td>great phone budget pubg performance rough came...</td>\n",
       "      <td>[great, phone, budget, pubg, performance, roug...</td>\n",
       "      <td>0.905900</td>\n",
       "      <td>0.882928</td>\n",
       "      <td>0.949051</td>\n",
       "      <td>0.812833</td>\n",
       "      <td>0.908254</td>\n",
       "    </tr>\n",
       "    <tr>\n",
       "      <th>1</th>\n",
       "      <td>Best Smartphone by Mi in this Range. . be born...</td>\n",
       "      <td>0</td>\n",
       "      <td>well smartphone mi range bear r confuse samsun...</td>\n",
       "      <td>[well, smartphone, mi, range, bear, r, confuse...</td>\n",
       "      <td>0.894832</td>\n",
       "      <td>0.845970</td>\n",
       "      <td>0.950308</td>\n",
       "      <td>0.843322</td>\n",
       "      <td>0.878978</td>\n",
       "    </tr>\n",
       "    <tr>\n",
       "      <th>2</th>\n",
       "      <td>Bad smooth phone. . and back camera quality is...</td>\n",
       "      <td>0</td>\n",
       "      <td>bad smooth phone back camera quality evil rear...</td>\n",
       "      <td>[bad, smooth, phone, back, camera, quality, ev...</td>\n",
       "      <td>0.854252</td>\n",
       "      <td>0.904393</td>\n",
       "      <td>0.953007</td>\n",
       "      <td>0.836709</td>\n",
       "      <td>0.917443</td>\n",
       "    </tr>\n",
       "    <tr>\n",
       "      <th>3</th>\n",
       "      <td>Thise is very nice mobile ...I like it very mu...</td>\n",
       "      <td>1</td>\n",
       "      <td>thise nice mobile I like much delivery also fa...</td>\n",
       "      <td>[thise, nice, mobile, i, like, much, delivery,...</td>\n",
       "      <td>0.852372</td>\n",
       "      <td>0.860145</td>\n",
       "      <td>0.915144</td>\n",
       "      <td>0.852916</td>\n",
       "      <td>0.865790</td>\n",
       "    </tr>\n",
       "    <tr>\n",
       "      <th>4</th>\n",
       "      <td>I m meagerly fall short of 👍 All section r sup...</td>\n",
       "      <td>0</td>\n",
       "      <td>I meagerly fall short thumb section r superb d...</td>\n",
       "      <td>[i, meagerly, fall, short, thumb, section, r, ...</td>\n",
       "      <td>0.842975</td>\n",
       "      <td>0.888513</td>\n",
       "      <td>0.969545</td>\n",
       "      <td>0.860077</td>\n",
       "      <td>0.916119</td>\n",
       "    </tr>\n",
       "  </tbody>\n",
       "</table>\n",
       "</div>"
      ],
      "text/plain": [
       "                                              review  y  \\\n",
       "0  great phone in budget. .. pubg performance was...  0   \n",
       "1  Best Smartphone by Mi in this Range. . be born...  0   \n",
       "2  Bad smooth phone. . and back camera quality is...  0   \n",
       "3  Thise is very nice mobile ...I like it very mu...  1   \n",
       "4  I m meagerly fall short of 👍 All section r sup...  0   \n",
       "\n",
       "                                        clean_review  \\\n",
       "0  great phone budget pubg performance rough came...   \n",
       "1  well smartphone mi range bear r confuse samsun...   \n",
       "2  bad smooth phone back camera quality evil rear...   \n",
       "3  thise nice mobile I like much delivery also fa...   \n",
       "4  I meagerly fall short thumb section r superb d...   \n",
       "\n",
       "                                       clean_review2     phone    camera  \\\n",
       "0  [great, phone, budget, pubg, performance, roug...  0.905900  0.882928   \n",
       "1  [well, smartphone, mi, range, bear, r, confuse...  0.894832  0.845970   \n",
       "2  [bad, smooth, phone, back, camera, quality, ev...  0.854252  0.904393   \n",
       "3  [thise, nice, mobile, i, like, much, delivery,...  0.852372  0.860145   \n",
       "4  [i, meagerly, fall, short, thumb, section, r, ...  0.842975  0.888513   \n",
       "\n",
       "    battery   quality  processor  \n",
       "0  0.949051  0.812833   0.908254  \n",
       "1  0.950308  0.843322   0.878978  \n",
       "2  0.953007  0.836709   0.917443  \n",
       "3  0.915144  0.852916   0.865790  \n",
       "4  0.969545  0.860077   0.916119  "
      ]
     },
     "execution_count": 60,
     "metadata": {},
     "output_type": "execute_result"
    }
   ],
   "source": [
    "df.head()"
   ]
  },
  {
   "cell_type": "code",
   "execution_count": 61,
   "id": "a05551aa-6d5c-4d5c-8dc3-c12c6c720e7a",
   "metadata": {},
   "outputs": [],
   "source": [
    "spath=\"dataset/\"\n",
    "df.to_csv(spath+\"Clean_Flipkart_Product.csv\", index = False)"
   ]
  },
  {
   "cell_type": "code",
   "execution_count": 89,
   "id": "6c960bee-bcf1-4f0f-8265-1279fcf9cc10",
   "metadata": {},
   "outputs": [
    {
     "name": "stderr",
     "output_type": "stream",
     "text": [
      "/home/faiz/anaconda3/lib/python3.11/site-packages/sklearn/feature_extraction/text.py:528: UserWarning: The parameter 'token_pattern' will not be used since 'tokenizer' is not None'\n",
      "  warnings.warn(\n"
     ]
    },
    {
     "name": "stdout",
     "output_type": "stream",
     "text": [
      "Cross-validation\n",
      "Cross-validation scores: [0.95941727 0.9531494  0.95158771 0.9573139  0.95471109]\n",
      "Mean CV accuracy: 0.9552358753489146\n",
      "Standard deviation of CV accuracy: 0.0028192242087384336\n",
      "\n",
      "K-fold\n",
      "K-fold scores: [0.9573361082206036, 0.956793336803748, 0.9484643414888079, 0.9536699635606455, 0.9495054659031754]\n",
      "Mean k-fold accuracy: 0.9531538431953962\n",
      "Standard deviation of kfold accuracy: 0.0036415853091811123\n",
      "\n",
      "Classification Report for Cross-validation:\n",
      "              precision    recall  f1-score   support\n",
      "\n",
      "           0       0.98      0.95      0.97      4803\n",
      "           1       0.96      0.98      0.97      4803\n",
      "\n",
      "    accuracy                           0.97      9606\n",
      "   macro avg       0.97      0.97      0.97      9606\n",
      "weighted avg       0.97      0.97      0.97      9606\n",
      "\n",
      "F1 Score: 96.99%\n",
      "Classification Report for K-fold:\n",
      "              precision    recall  f1-score   support\n",
      "\n",
      "           0       0.97      0.94      0.95      4803\n",
      "           1       0.94      0.97      0.95      4803\n",
      "\n",
      "    accuracy                           0.95      9606\n",
      "   macro avg       0.95      0.95      0.95      9606\n",
      "weighted avg       0.95      0.95      0.95      9606\n",
      "\n",
      "F1 Score: 95.38%\n"
     ]
    },
    {
     "data": {
      "image/png": "[encoded data removed]",
      "text/plain": [
       "<Figure size 640x480 with 1 Axes>"
      ]
     },
     "metadata": {},
     "output_type": "display_data"
    },
    {
     "name": "stdout",
     "output_type": "stream",
     "text": [
      "cross_val_score - Mean: 0.9552358753489146 Std Dev: 0.0028192242087384336\n",
      "Manual KFold - Mean: 0.9531538431953962 Std Dev: 0.0036415853091811123\n"
     ]
    }
   ],
   "source": [
    "import pandas as pd\n",
    "import numpy as np\n",
    "import matplotlib.pyplot as plt\n",
    "from sklearn.feature_extraction.text import TfidfVectorizer\n",
    "from sklearn.linear_model import LogisticRegression\n",
    "from sklearn.model_selection import cross_val_score, KFold\n",
    "from sklearn.metrics import classification_report\n",
    "\n",
    "\n",
    "df = pd.read_csv(\"dataset/Clean_Flipkart_Product.csv\")\n",
    "\n",
    "\n",
    "def tokenizer(text):\n",
    "    return text.split()\n",
    "\n",
    "\n",
    "tfidf_vectorizer = TfidfVectorizer(tokenizer=tokenizer)\n",
    "X = tfidf_vectorizer.fit_transform(df[\"clean_review\"])\n",
    "y = df[\"y\"].values\n",
    "\n",
    "\n",
    "logistic_regression_model = LogisticRegression()\n",
    "\n",
    "\n",
    "cv_scores = cross_val_score(logistic_regression_model, X, y, cv=5)\n",
    "\n",
    "\n",
    "kfold = KFold(n_splits=5, shuffle=True, random_state=42)\n",
    "manual_kfold_scores = []\n",
    "predictions = []\n",
    "true_labels = []\n",
    "\n",
    "for train_idx, test_idx in kfold.split(X):\n",
    "    X_train, X_test = X[train_idx], X[test_idx]\n",
    "    y_train, y_test = y[train_idx], y[test_idx]\n",
    "    logistic_regression_model.fit(X_train, y_train)  # Fit on training data\n",
    "    accuracy = logistic_regression_model.score(X_test, y_test)  # Calculate accuracy\n",
    "    manual_kfold_scores.append(accuracy)\n",
    "    y_pred = logistic_regression_model.predict(X_test)\n",
    "    predictions.extend(y_pred)\n",
    "    true_labels.extend(y_test)\n",
    "\n",
    "print(\"Cross-validation\")\n",
    "print(\"Cross-validation scores:\", cv_scores)\n",
    "print(\"Mean CV accuracy:\", np.mean(cv_scores))\n",
    "print(\"Standard deviation of CV accuracy:\", np.std(cv_scores))\n",
    "\n",
    "print()\n",
    "print(\"K-fold\")\n",
    "print(\"K-fold scores:\", manual_kfold_scores)\n",
    "print(\"Mean k-fold accuracy:\", np.mean(manual_kfold_scores))\n",
    "print(\"Standard deviation of kfold accuracy:\", np.std(manual_kfold_scores))\n",
    "\n",
    "print()\n",
    "print(\"Classification Report for Cross-validation:\")\n",
    "print(classification_report(y, logistic_regression_model.predict(X)))\n",
    "print(f\"F1 Score: {round(f1_score(y, logistic_regression_model.predict(X))*100,2)}%\")\n",
    "\n",
    "print(\"Classification Report for K-fold:\")\n",
    "print(classification_report(true_labels, predictions))\n",
    "print(f\"F1 Score: {round(f1_score(true_labels, predictions)*100,2)}%\")\n",
    "\n",
    "plt.bar([fold - 0.2 for fold in range(1, 6)], cv_scores, width=0.4, label='cross_val_score')\n",
    "plt.bar([fold + 0.2 for fold in range(1, 6)], manual_kfold_scores, width=0.4, label='Manual KFold')\n",
    "plt.xlabel('Fold')\n",
    "plt.ylabel('Accuracy')\n",
    "plt.title('Cross-Validation Accuracy: cross_val_score vs Manual KFold')\n",
    "plt.xticks(range(1, 6))\n",
    "plt.ylim(0.85, 1)  # Adjust the y-axis limits\n",
    "plt.grid(axis='y', linestyle='--', alpha=0.7)\n",
    "plt.legend()\n",
    "plt.show()\n",
    "\n",
    "mean_cv_score = np.mean(cv_scores)\n",
    "std_cv_score = np.std(cv_scores)\n",
    "\n",
    "mean_manual_score = np.mean(manual_kfold_scores)\n",
    "std_manual_score = np.std(manual_kfold_scores)\n",
    "\n",
    "print(\"cross_val_score - Mean:\", mean_cv_score, \"Std Dev:\", std_cv_score)\n",
    "print(\"Manual KFold - Mean:\", mean_manual_score, \"Std Dev:\", std_manual_score)\n"
   ]
  },
  {
   "cell_type": "code",
   "execution_count": 90,
   "id": "b4b17055-99d1-4400-b32c-294dd64c7e93",
   "metadata": {},
   "outputs": [
    {
     "data": {
      "text/plain": [
       "['modelsave/tfidf_vectorizer.joblib']"
      ]
     },
     "execution_count": 90,
     "metadata": {},
     "output_type": "execute_result"
    }
   ],
   "source": [
    "import joblib\n",
    "spath=\"modelsave/\"\n",
    "joblib.dump(logistic_regression_model, spath+'logistic_regression_model.joblib')\n",
    "joblib.dump(tfidf_vectorizer, spath+'tfidf_vectorizer.joblib')"
   ]
  },
  {
   "cell_type": "code",
   "execution_count": 91,
   "id": "2b3bf420-e6c0-40d1-bea5-f93677dd4ea7",
   "metadata": {
    "scrolled": true
   },
   "outputs": [
    {
     "name": "stdout",
     "output_type": "stream",
     "text": [
      "No constraints given.\n",
      "New best for swarm at iteration 1: [  6.68462276 471.3026938    0.65520482] -0.9599208810447646\n",
      "Best after iteration 1: [  6.68462276 471.3026938    0.65520482] -0.9599208810447646\n",
      "Best after iteration 2: [  6.68462276 471.3026938    0.65520482] -0.9599208810447646\n",
      "New best for swarm at iteration 3: [  9.05238684 381.4449368    0.52218883] -0.9600249393173972\n",
      "Best after iteration 3: [  9.05238684 381.4449368    0.52218883] -0.9600249393173972\n",
      "Best after iteration 4: [  9.05238684 381.4449368    0.52218883] -0.9600249393173972\n",
      "Best after iteration 5: [  9.05238684 381.4449368    0.52218883] -0.9600249393173972\n",
      "Best after iteration 6: [  9.05238684 381.4449368    0.52218883] -0.9600249393173972\n",
      "Best after iteration 7: [  9.05238684 381.4449368    0.52218883] -0.9600249393173972\n",
      "Best after iteration 8: [  9.05238684 381.4449368    0.52218883] -0.9600249393173972\n",
      "Best after iteration 9: [  9.05238684 381.4449368    0.52218883] -0.9600249393173972\n",
      "Best after iteration 10: [  9.05238684 381.4449368    0.52218883] -0.9600249393173972\n",
      "Best after iteration 11: [  9.05238684 381.4449368    0.52218883] -0.9600249393173972\n",
      "Best after iteration 12: [  9.05238684 381.4449368    0.52218883] -0.9600249393173972\n",
      "Best after iteration 13: [  9.05238684 381.4449368    0.52218883] -0.9600249393173972\n",
      "Best after iteration 14: [  9.05238684 381.4449368    0.52218883] -0.9600249393173972\n",
      "Best after iteration 15: [  9.05238684 381.4449368    0.52218883] -0.9600249393173972\n",
      "Best after iteration 16: [  9.05238684 381.4449368    0.52218883] -0.9600249393173972\n",
      "Best after iteration 17: [  9.05238684 381.4449368    0.52218883] -0.9600249393173972\n",
      "Best after iteration 18: [  9.05238684 381.4449368    0.52218883] -0.9600249393173972\n",
      "Best after iteration 19: [  9.05238684 381.4449368    0.52218883] -0.9600249393173972\n",
      "Best after iteration 20: [  9.05238684 381.4449368    0.52218883] -0.9600249393173972\n",
      "Stopping search: maximum iterations reached --> 20\n",
      "Best hyperparameters: [  9.05238684 381.4449368    0.52218883]\n",
      "Cross-validation\n",
      "Cross-validation scores after pso: [0.96045786 0.95366996 0.96356065 0.96251952 0.95991671]\n",
      "Mean CV accuracy after pso: 0.9600249393173972\n",
      "Standard deviation of CV accuracy: after pso 0.0034440965148361115\n",
      "Classification Report for cross_val_score:\n",
      "              precision    recall  f1-score   support\n",
      "\n",
      "           0       0.97      0.95      0.96      4803\n",
      "           1       0.95      0.97      0.96      4803\n",
      "\n",
      "    accuracy                           0.96      9606\n",
      "   macro avg       0.96      0.96      0.96      9606\n",
      "weighted avg       0.96      0.96      0.96      9606\n",
      "\n",
      "F1 Score: 96.04%\n",
      "\n",
      "K-fold\n",
      "K-fold scores after pso: [0.9625390218522373, 0.9588755856324831, 0.9526288391462779, 0.950546590317543, 0.9557522123893806]\n",
      "Mean k-fold accuracy: after pso 0.9560684498675844\n",
      "Standard deviation of kfold accuracy: after pso 0.004293487485908838\n",
      "Classification Report for Manual KFold:\n",
      "              precision    recall  f1-score   support\n",
      "\n",
      "           0       0.50      0.49      0.49      4803\n",
      "           1       0.50      0.50      0.50      4803\n",
      "\n",
      "    accuracy                           0.50      9606\n",
      "   macro avg       0.50      0.50      0.50      9606\n",
      "weighted avg       0.50      0.50      0.50      9606\n",
      "\n",
      "F1 Score: 50.03%\n"
     ]
    },
    {
     "data": {
      "image/png": "[encoded data removed]",
      "text/plain": [
       "<Figure size 640x480 with 1 Axes>"
      ]
     },
     "metadata": {},
     "output_type": "display_data"
    }
   ],
   "source": [
    "import torch\n",
    "import joblib\n",
    "import numpy as np\n",
    "import pandas as pd\n",
    "import matplotlib.pyplot as plt\n",
    "from sklearn.feature_extraction.text import TfidfVectorizer\n",
    "from sklearn.linear_model import LogisticRegression\n",
    "from sklearn.model_selection import cross_val_score, KFold, cross_val_predict\n",
    "from pyswarm import pso\n",
    "from sklearn.metrics import classification_report\n",
    "\n",
    "\n",
    "df = pd.read_csv(\"dataset/Clean_Flipkart_Product.csv\")\n",
    "\n",
    "\n",
    "tfidf_vectorizer = TfidfVectorizer()\n",
    "tfidf_vectorizer.fit(df[\"clean_review\"])\n",
    "\n",
    "X = tfidf_vectorizer.transform(df[\"clean_review\"])\n",
    "y = df[\"y\"].values\n",
    "\n",
    "\n",
    "def logistic_regression_model(params):\n",
    "    C = params[0]\n",
    "    max_iter = int(params[1])\n",
    "    solver = 'liblinear' if params[2] < 0.5 else 'lbfgs'\n",
    "    \n",
    "    model = LogisticRegression(C=C, max_iter=max_iter, solver=solver)\n",
    "    scores = cross_val_score(model, X, y, cv=5)\n",
    "    return -np.mean(scores)  \n",
    "\n",
    "# PSO optimization\n",
    "lb = [0.01, 50, 0]  \n",
    "ub = [10, 500, 1]  \n",
    "swarmsize = 15     \n",
    "maxiter = 20        \n",
    "\n",
    "# Perform PSO optimization\n",
    "best_params, best_scores = pso(logistic_regression_model, lb, ub, swarmsize=swarmsize, maxiter=maxiter, debug=True)\n",
    "\n",
    "print(\"Best hyperparameters:\", best_params)\n",
    "\n",
    "\n",
    "best_values = np.array(best_scores)  \n",
    "\n",
    "# Train the final model with the best parameters\n",
    "best_model = LogisticRegression(C=best_params[0], max_iter=int(best_params[1]), solver='liblinear' if best_params[2] < 0.5 else 'lbfgs')\n",
    "cv_scores = cross_val_score(best_model, X, y, cv=5)\n",
    "\n",
    "# Get predictions using cross_val_predict\n",
    "cv_predicted = cross_val_predict(best_model, X, y, cv=5)\n",
    "\n",
    "kfold = KFold(n_splits=5, shuffle=True, random_state=42)\n",
    "manual_kfold_scores = []\n",
    "manual_kfold_predicted = []\n",
    "\n",
    "# Iterate through each fold manually\n",
    "for train_idx, test_idx in kfold.split(X):\n",
    "    X_train, X_test = X[train_idx], X[test_idx]\n",
    "    y_train, y_test = y[train_idx], y[test_idx]\n",
    "    best_model.fit(X_train, y_train)  # Fit on training data\n",
    "    accuracy = best_model.score(X_test, y_test)  # Calculate accuracy\n",
    "    manual_kfold_scores.append(accuracy)\n",
    "    y_pred = best_model.predict(X_test)\n",
    "    manual_kfold_predicted.extend(y_pred)\n",
    "\n",
    "print(\"Cross-validation\")\n",
    "print(\"Cross-validation scores after pso:\", cv_scores)\n",
    "print(\"Mean CV accuracy after pso:\", np.mean(cv_scores))\n",
    "print(\"Standard deviation of CV accuracy: after pso\", np.std(cv_scores))\n",
    "print(\"Classification Report for cross_val_score:\")\n",
    "print(classification_report(y, cv_predicted))\n",
    "print(f\"F1 Score: {round(f1_score(y, cv_predicted)*100,2)}%\") \n",
    "\n",
    "print()\n",
    "print(\"K-fold\")\n",
    "\n",
    "print(\"K-fold scores after pso:\", manual_kfold_scores)\n",
    "print(\"Mean k-fold accuracy: after pso\", np.mean(manual_kfold_scores))\n",
    "print(\"Standard deviation of kfold accuracy: after pso\", np.std(manual_kfold_scores))\n",
    "print(\"Classification Report for Manual KFold:\")\n",
    "print(classification_report(y, manual_kfold_predicted))\n",
    "print(f\"F1 Score: {round(f1_score(y, manual_kfold_predicted)*100,2)}%\") \n",
    "\n",
    "plt.bar([iter - 0.2 for iter in range(1,6)], cv_scores, width=0.4, label='cross_val_score')\n",
    "plt.bar([iter + 0.2 for iter in range(1,6)], manual_kfold_scores, width=0.4, label='Manual KFold')\n",
    "plt.xlabel('Iteration')\n",
    "plt.ylabel('Score (Negative Mean CV Accuracy)')\n",
    "plt.title('PSO Optimization Progress')\n",
    "plt.xticks(range(1,6))\n",
    "plt.ylim(0.85, 1)  # Adjust the y-axis limits\n",
    "plt.grid(axis='y', linestyle='--', alpha=0.7)\n",
    "plt.legend()\n",
    "plt.show()\n"
   ]
  },
  {
   "cell_type": "code",
   "execution_count": 82,
   "id": "216ac9e8-0ab9-49e2-a431-c2667deeb6a8",
   "metadata": {},
   "outputs": [
    {
     "data": {
      "text/plain": [
       "['modelsave/tfidf_vectorizer_pso.joblib']"
      ]
     },
     "execution_count": 82,
     "metadata": {},
     "output_type": "execute_result"
    }
   ],
   "source": [
    "import joblib\n",
    "spath=\"modelsave/\"\n",
    "joblib.dump(best_model, spath+'best_model_pso.joblib')\n",
    "joblib.dump(tfidf_vectorizer, spath+'tfidf_vectorizer_pso.joblib')"
   ]
  },
  {
   "cell_type": "code",
   "execution_count": 85,
   "id": "e8ddf739-9880-45d7-9636-fb257f67c574",
   "metadata": {},
   "outputs": [
    {
     "name": "stderr",
     "output_type": "stream",
     "text": [
      "/home/faiz/anaconda3/lib/python3.11/site-packages/sklearn/feature_extraction/text.py:528: UserWarning: The parameter 'token_pattern' will not be used since 'tokenizer' is not None'\n",
      "  warnings.warn(\n"
     ]
    },
    {
     "name": "stdout",
     "output_type": "stream",
     "text": [
      "Cross-validation\n",
      "Cross-validation scores: [0.95941727 0.9531494  0.95158771 0.9573139  0.95471109]\n",
      "Mean CV accuracy: 0.9552358753489146\n",
      "Standard deviation of CV accuracy: 0.0028192242087384336\n",
      "\n",
      "Cross-validation particle swarm optimization\n",
      "Cross-validation scores: [0.95993757 0.95419053 0.96512233 0.9614784  0.95939615]\n",
      "Mean CV accuracy: 0.9600249934862013\n",
      "Standard deviation of CV accuracy: 0.0035366466060944056\n"
     ]
    },
    {
     "data": {
      "image/png": "[encoded data removed]",
      "text/plain": [
       "<Figure size 640x480 with 1 Axes>"
      ]
     },
     "metadata": {},
     "output_type": "display_data"
    }
   ],
   "source": [
    "import joblib\n",
    "import numpy as np\n",
    "from sklearn.feature_extraction.text import TfidfVectorizer\n",
    "from sklearn.linear_model import LogisticRegression\n",
    "from sklearn.model_selection import cross_val_score, KFold\n",
    "import torch\n",
    "import pandas as pd\n",
    "from torch import nn\n",
    "\n",
    "spath=\"modelsave/\"\n",
    "tfidf_vectorizer = joblib.load(spath+\"tfidf_vectorizer.joblib\")\n",
    "logistic_regression_model = joblib.load(spath+\"logistic_regression_model.joblib\")\n",
    "\n",
    "tfidf_vectorizer_pso = joblib.load(spath+\"tfidf_vectorizer_pso.joblib\")\n",
    "best_model_pso = joblib.load(spath+\"best_model_pso.joblib\")\n",
    "\n",
    "X = tfidf_vectorizer.fit_transform(df[\"clean_review\"])\n",
    "y = df[\"y\"].values\n",
    "\n",
    "X_pso = tfidf_vectorizer_pso.fit_transform(df[\"clean_review\"])\n",
    "y_pso = df[\"y\"].values\n",
    "\n",
    "cv_scores = cross_val_score(logistic_regression_model, X, y, cv=5)\n",
    "cv_scores_pso = cross_val_score(best_model_pso, X_pso, y_pso, cv=5)\n",
    "\n",
    "print(\"Cross-validation\")\n",
    "print(\"Cross-validation scores:\", cv_scores)\n",
    "print(\"Mean CV accuracy:\", np.mean(cv_scores))\n",
    "print(\"Standard deviation of CV accuracy:\", np.std(cv_scores))\n",
    "print()\n",
    "print(\"Cross-validation particle swarm optimization\")\n",
    "print(\"Cross-validation scores:\", cv_scores_pso)\n",
    "print(\"Mean CV accuracy:\", np.mean(cv_scores_pso))\n",
    "print(\"Standard deviation of CV accuracy:\", np.std(cv_scores_pso))\n",
    "\n",
    "plt.bar([fold - 0.2 for fold in range(1,6)], cv_scores, width=0.4, label='Cross-validation')\n",
    "plt.bar([fold + 0.2 for fold in range(1,6)], cv_scores_pso, width=0.4, label='Cross-validation pso')\n",
    "plt.xlabel('Fold')\n",
    "plt.ylabel('Accuracy')\n",
    "plt.title('Accuracy: Cross-validation vs Cross-validation pso')\n",
    "plt.xticks(range(1,6))\n",
    "plt.ylim(0.85, 1)  # Adjust the y-axis limits\n",
    "plt.grid(axis='y', linestyle='--', alpha=0.7)\n",
    "plt.legend()\n",
    "plt.show()\n",
    "\n",
    "\n"
   ]
  },
  {
   "cell_type": "code",
   "execution_count": 86,
   "id": "cb77df2a-e639-4ff0-a055-d2a9a8cafa77",
   "metadata": {},
   "outputs": [
    {
     "name": "stderr",
     "output_type": "stream",
     "text": [
      "/home/faiz/anaconda3/lib/python3.11/site-packages/sklearn/feature_extraction/text.py:528: UserWarning: The parameter 'token_pattern' will not be used since 'tokenizer' is not None'\n",
      "  warnings.warn(\n"
     ]
    },
    {
     "name": "stdout",
     "output_type": "stream",
     "text": [
      "K-fold scores\n",
      "K-fold scores: [0.9573361082206036, 0.956793336803748, 0.9484643414888079, 0.9536699635606455, 0.9495054659031754]\n",
      "Mean K-fold accuracy: 0.9531538431953962\n",
      "Standard deviation of K-fold accuracy: 0.0036415853091811123\n",
      "\n",
      "K-fold scores particle swarm optimization\n",
      "K-fold scores: [0.9630593132154006, 0.9578344612181156, 0.9515877147319105, 0.9510671525247267, 0.954711087975013]\n",
      "Mean K-fold accuracy: 0.9556519459330334\n",
      "Standard deviation of K-fold accuracy: 0.004428453061187504\n"
     ]
    },
    {
     "data": {
      "image/png": "[encoded data removed]",
      "text/plain": [
       "<Figure size 640x480 with 1 Axes>"
      ]
     },
     "metadata": {},
     "output_type": "display_data"
    }
   ],
   "source": [
    "import joblib\n",
    "import numpy as np\n",
    "from sklearn.feature_extraction.text import TfidfVectorizer\n",
    "from sklearn.linear_model import LogisticRegression\n",
    "from sklearn.model_selection import cross_val_score, KFold\n",
    "import torch\n",
    "import pandas as pd\n",
    "from torch import nn\n",
    "\n",
    "spath=\"modelsave/\"\n",
    "tfidf_vectorizer = joblib.load(spath+\"tfidf_vectorizer.joblib\")\n",
    "logistic_regression_model = joblib.load(spath+\"logistic_regression_model.joblib\")\n",
    "\n",
    "tfidf_vectorizer_pso = joblib.load(spath+\"tfidf_vectorizer_pso.joblib\")\n",
    "best_model_pso = joblib.load(spath+\"best_model_pso.joblib\")\n",
    "\n",
    "X = tfidf_vectorizer.fit_transform(df[\"clean_review\"])\n",
    "y = df[\"y\"].values\n",
    "\n",
    "X_pso = tfidf_vectorizer_pso.fit_transform(df[\"clean_review\"])\n",
    "y_pso = df[\"y\"].values\n",
    "\n",
    "kfold = KFold(n_splits=5, shuffle=True, random_state=42)\n",
    "kfold_scores = []\n",
    "Kfold_scores_pso=[]\n",
    "\n",
    "# Iterate through each fold manually\n",
    "for train_idx, test_idx in kfold.split(X):\n",
    "    X_train, X_test = X[train_idx], X[test_idx]\n",
    "    y_train, y_test = y[train_idx], y[test_idx]\n",
    "    logistic_regression_model.fit(X_train, y_train)  # Fit on training data\n",
    "    accuracy = logistic_regression_model.score(X_test, y_test)  # Calculate accuracy\n",
    "    kfold_scores.append(accuracy)\n",
    "\n",
    "for train_idx, test_idx in kfold.split(X_pso):\n",
    "    X_train, X_test = X_pso[train_idx], X_pso[test_idx]\n",
    "    y_train, y_test = y_pso[train_idx], y_pso[test_idx]\n",
    "    best_model_pso.fit(X_train, y_train)  # Fit on training data\n",
    "    accuracy = best_model_pso.score(X_test, y_test)  # Calculate accuracy\n",
    "    Kfold_scores_pso.append(accuracy)\n",
    "\n",
    "print(\"K-fold scores\")\n",
    "print(\"K-fold scores:\", kfold_scores)\n",
    "print(\"Mean K-fold accuracy:\", np.mean(kfold_scores))\n",
    "print(\"Standard deviation of K-fold accuracy:\", np.std(kfold_scores))\n",
    "print()\n",
    "print(\"K-fold scores particle swarm optimization\")\n",
    "print(\"K-fold scores:\", Kfold_scores_pso)\n",
    "print(\"Mean K-fold accuracy:\", np.mean(Kfold_scores_pso))\n",
    "print(\"Standard deviation of K-fold accuracy:\", np.std(Kfold_scores_pso))\n",
    "\n",
    "plt.bar([fold - 0.2 for fold in range(1,6)], kfold_scores, width=0.4, label='K-fold')\n",
    "plt.bar([fold + 0.2 for fold in range(1,6)], Kfold_scores_pso, width=0.4, label='K-fold pso')\n",
    "plt.xlabel('Fold')\n",
    "plt.ylabel('Accuracy')\n",
    "plt.title('Accuracy: K-fold vs K-fold pso')\n",
    "plt.xticks(range(1,6))\n",
    "plt.ylim(0.85, 1)  # Adjust the y-axis limits\n",
    "plt.grid(axis='y', linestyle='--', alpha=0.7)\n",
    "plt.legend()\n",
    "plt.show()\n",
    "\n"
   ]
  },
  {
   "cell_type": "code",
   "execution_count": 87,
   "id": "11a6de4b-7f7d-4d18-b155-ed69d93dbb02",
   "metadata": {},
   "outputs": [
    {
     "name": "stdout",
     "output_type": "stream",
     "text": [
      "Logistic Regression Prediction for the sample text: Positive\n",
      "Best aspect in the sample: battery\n"
     ]
    }
   ],
   "source": [
    "import joblib\n",
    "import numpy as np\n",
    "from sklearn.feature_extraction.text import TfidfVectorizer\n",
    "from sklearn.linear_model import LogisticRegression\n",
    "import torch\n",
    "import pandas as pd\n",
    "from torch import nn\n",
    "\n",
    "\n",
    "\n",
    "spath=\"modelsave/\"\n",
    "tfidf_vectorizer = joblib.load(spath+\"tfidf_vectorizer.joblib\")\n",
    "logistic_regression_model = joblib.load(spath+\"logistic_regression_model.joblib\")\n",
    "\n",
    "\n",
    "def get_similarity(text, aspect):\n",
    "    try:\n",
    "#         text = \" \".join(text)\n",
    "        return fasttext_model.wv.n_similarity(text, aspect)\n",
    "    except:\n",
    "        return 0\n",
    "        \n",
    "def best_aspect(text, aspects):\n",
    "    a = []\n",
    "    for aspect in aspects:\n",
    "        a.append(get_similarity(text, aspect))\n",
    "    \n",
    "    return aspects[np.argmax(a)]\n",
    "\n",
    "def preprocessing(text):\n",
    "    text = remove_url(text)\n",
    "    text = uni.normalize(\"NFKD\", text)\n",
    "    text = handle_emoji(text)\n",
    "    text = text.lower()\n",
    "    text = re.sub(r\"[^\\w\\s]\", \"\", text)\n",
    "    text = word_tokenizer(text)\n",
    "    # text = stemming(text)\n",
    "    text = lemmatization(text)\n",
    "    text = remove_stopwords(text)\n",
    "    text = \" \".join(text)\n",
    "    return text\n",
    "    \n",
    "sample_text = \"I just love the phone, camera, features, bought for my mother and she absolutely loves it. Thanks, Flipkart.\"\n",
    "\n",
    "X_test = tfidf_vectorizer.transform([sample_text])\n",
    "\n",
    "prediction = logistic_regression_model.predict(X_test)\n",
    "\n",
    "prediction_label = \"Positive\" if prediction == 1 else \"Negative\"\n",
    "print(\"Logistic Regression Prediction for the sample text:\", prediction_label)\n",
    "\n",
    "aspects = [\"phone\", \"camera\", \"battery\", \"features\", \"processor\"]\n",
    "\n",
    "preprocessed_sample = preprocessing(sample_text)\n",
    "ba = best_aspect(preprocessed_sample, aspects)\n",
    "\n",
    "print(\"Best aspect in the sample:\", ba)\n"
   ]
  },
  {
   "cell_type": "code",
   "execution_count": 88,
   "id": "656fc45f-32bc-4f4f-9fb0-33cca66b98a9",
   "metadata": {},
   "outputs": [
    {
     "name": "stdout",
     "output_type": "stream",
     "text": [
      "Logistic Regression using PSO Prediction for the sample text: Positive\n",
      "Best aspect in the sample: battery\n"
     ]
    }
   ],
   "source": [
    "import joblib\n",
    "import numpy as np\n",
    "from sklearn.feature_extraction.text import TfidfVectorizer\n",
    "from sklearn.linear_model import LogisticRegression\n",
    "import torch\n",
    "import pandas as pd\n",
    "from torch import nn\n",
    "from sklearn.metrics import f1_score, classification_report\n",
    "\n",
    "\n",
    "\n",
    "spath=\"modelsave/\"\n",
    "tfidf_vectorizer = joblib.load(spath+\"tfidf_vectorizer_pso.joblib\")\n",
    "logistic_regression_model = joblib.load(spath+\"best_model_pso.joblib\")\n",
    "\n",
    "def get_similarity(text, aspect):\n",
    "    try:\n",
    "#         text = \" \".join(text)\n",
    "        return fasttext_model.wv.n_similarity(text, aspect)\n",
    "    except:\n",
    "        return 0\n",
    "        \n",
    "def best_aspect(text, aspects):\n",
    "    a = []\n",
    "    for aspect in aspects:\n",
    "        a.append(get_similarity(text, aspect))\n",
    "    \n",
    "    return aspects[np.argmax(a)]\n",
    "\n",
    "def preprocessing(text):\n",
    "    text = remove_url(text)\n",
    "    text = uni.normalize(\"NFKD\", text)\n",
    "    text = handle_emoji(text)\n",
    "    text = text.lower()\n",
    "    text = re.sub(r\"[^\\w\\s]\", \"\", text)\n",
    "    text = word_tokenizer(text)\n",
    "    # text = stemming(text)\n",
    "    text = lemmatization(text)\n",
    "    text = remove_stopwords(text)\n",
    "    text = \" \".join(text)\n",
    "    return text\n",
    "    \n",
    "sample_text = \"I just love the phone, camera, features, bought for my mother and she absolutely loves it. Thanks, Flipkart.\"\n",
    "\n",
    "X_test = tfidf_vectorizer.transform([sample_text])\n",
    "\n",
    "prediction = logistic_regression_model.predict(X_test)\n",
    "\n",
    "prediction_label = \"Positive\" if prediction == 1 else \"Negative\"\n",
    "print(\"Logistic Regression using PSO Prediction for the sample text:\", prediction_label)\n",
    "\n",
    "aspects = [\"phone\", \"camera\", \"battery\", \"features\", \"processor\"]\n",
    "\n",
    "preprocessed_sample = preprocessing(sample_text)\n",
    "ba = best_aspect(preprocessed_sample, aspects)\n",
    "\n",
    "print(\"Best aspect in the sample:\", ba)\n",
    "\n"
   ]
  },
  {
   "cell_type": "code",
   "execution_count": null,
   "id": "0b12330f-6235-4388-b445-e4927570e692",
   "metadata": {},
   "outputs": [],
   "source": []
  }
 ],
 "metadata": {
  "kernelspec": {
   "display_name": "Python 3 (ipykernel)",
   "language": "python",
   "name": "python3"
  },
  "language_info": {
   "codemirror_mode": {
    "name": "ipython",
    "version": 3
   },
   "file_extension": ".py",
   "mimetype": "text/x-python",
   "name": "python",
   "nbconvert_exporter": "python",
   "pygments_lexer": "ipython3",
   "version": "3.11.7"
  }
 },
 "nbformat": 4,
 "nbformat_minor": 5
}
